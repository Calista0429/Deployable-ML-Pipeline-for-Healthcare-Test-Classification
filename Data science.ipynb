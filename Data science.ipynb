{
 "cells": [
  {
   "cell_type": "code",
   "execution_count": 1,
   "id": "c330fc0d-e3c4-4fb7-adda-fbb7bffbd6fd",
   "metadata": {
    "tags": []
   },
   "outputs": [],
   "source": [
    "import pandas as pd\n",
    "import numpy as np\n",
    "import matplotlib.pyplot as plt\n",
    "import seaborn as sns\n",
    "import warnings\n",
    "sns.set_style('whitegrid')\n",
    "warnings.filterwarnings('ignore')"
   ]
  },
  {
   "cell_type": "code",
   "execution_count": 2,
   "id": "fb6cd9e3-86be-4545-aeb0-5d0e3d040b09",
   "metadata": {
    "tags": []
   },
   "outputs": [],
   "source": [
    "#read csv\n",
    "raw_data = pd.read_csv('healthcare_dataset.csv')"
   ]
  },
  {
   "cell_type": "markdown",
   "id": "5a1181ab-52ba-419b-a06d-9d1be41792de",
   "metadata": {},
   "source": [
    "### 1. Look up the column\n",
    " - Patient basic information: \n",
    "   - Name & Age & Gender\n",
    " - Medical information\n",
    "   - Blood type\n",
    "   - Medical Condition\n",
    "   - Doctor & Hopital & Room Number\n",
    "   - Insurance provider\n",
    "   - Billding Amount\n",
    "   - Admission type\n",
    "   - Medication\n",
    "   - Test result\n",
    " - Other information\n",
    "   - Date of Admission\n",
    "   - Discharge Date"
   ]
  },
  {
   "cell_type": "code",
   "execution_count": 3,
   "id": "c56e8aac-8870-4f8a-bfb6-d11529a5d741",
   "metadata": {
    "tags": []
   },
   "outputs": [
    {
     "data": {
      "text/html": [
       "<div>\n",
       "<style scoped>\n",
       "    .dataframe tbody tr th:only-of-type {\n",
       "        vertical-align: middle;\n",
       "    }\n",
       "\n",
       "    .dataframe tbody tr th {\n",
       "        vertical-align: top;\n",
       "    }\n",
       "\n",
       "    .dataframe thead th {\n",
       "        text-align: right;\n",
       "    }\n",
       "</style>\n",
       "<table border=\"1\" class=\"dataframe\">\n",
       "  <thead>\n",
       "    <tr style=\"text-align: right;\">\n",
       "      <th></th>\n",
       "      <th>Name</th>\n",
       "      <th>Age</th>\n",
       "      <th>Gender</th>\n",
       "      <th>Blood Type</th>\n",
       "      <th>Medical Condition</th>\n",
       "      <th>Date of Admission</th>\n",
       "      <th>Doctor</th>\n",
       "      <th>Hospital</th>\n",
       "      <th>Insurance Provider</th>\n",
       "      <th>Billing Amount</th>\n",
       "      <th>Room Number</th>\n",
       "      <th>Admission Type</th>\n",
       "      <th>Discharge Date</th>\n",
       "      <th>Medication</th>\n",
       "      <th>Test Results</th>\n",
       "    </tr>\n",
       "  </thead>\n",
       "  <tbody>\n",
       "    <tr>\n",
       "      <th>0</th>\n",
       "      <td>Tiffany Ramirez</td>\n",
       "      <td>81</td>\n",
       "      <td>Female</td>\n",
       "      <td>O-</td>\n",
       "      <td>Diabetes</td>\n",
       "      <td>2022-11-17</td>\n",
       "      <td>Patrick Parker</td>\n",
       "      <td>Wallace-Hamilton</td>\n",
       "      <td>Medicare</td>\n",
       "      <td>37490.983364</td>\n",
       "      <td>146</td>\n",
       "      <td>Elective</td>\n",
       "      <td>2022-12-01</td>\n",
       "      <td>Aspirin</td>\n",
       "      <td>Inconclusive</td>\n",
       "    </tr>\n",
       "    <tr>\n",
       "      <th>1</th>\n",
       "      <td>Ruben Burns</td>\n",
       "      <td>35</td>\n",
       "      <td>Male</td>\n",
       "      <td>O+</td>\n",
       "      <td>Asthma</td>\n",
       "      <td>2023-06-01</td>\n",
       "      <td>Diane Jackson</td>\n",
       "      <td>Burke, Griffin and Cooper</td>\n",
       "      <td>UnitedHealthcare</td>\n",
       "      <td>47304.064845</td>\n",
       "      <td>404</td>\n",
       "      <td>Emergency</td>\n",
       "      <td>2023-06-15</td>\n",
       "      <td>Lipitor</td>\n",
       "      <td>Normal</td>\n",
       "    </tr>\n",
       "    <tr>\n",
       "      <th>2</th>\n",
       "      <td>Chad Byrd</td>\n",
       "      <td>61</td>\n",
       "      <td>Male</td>\n",
       "      <td>B-</td>\n",
       "      <td>Obesity</td>\n",
       "      <td>2019-01-09</td>\n",
       "      <td>Paul Baker</td>\n",
       "      <td>Walton LLC</td>\n",
       "      <td>Medicare</td>\n",
       "      <td>36874.896997</td>\n",
       "      <td>292</td>\n",
       "      <td>Emergency</td>\n",
       "      <td>2019-02-08</td>\n",
       "      <td>Lipitor</td>\n",
       "      <td>Normal</td>\n",
       "    </tr>\n",
       "    <tr>\n",
       "      <th>3</th>\n",
       "      <td>Antonio Frederick</td>\n",
       "      <td>49</td>\n",
       "      <td>Male</td>\n",
       "      <td>B-</td>\n",
       "      <td>Asthma</td>\n",
       "      <td>2020-05-02</td>\n",
       "      <td>Brian Chandler</td>\n",
       "      <td>Garcia Ltd</td>\n",
       "      <td>Medicare</td>\n",
       "      <td>23303.322092</td>\n",
       "      <td>480</td>\n",
       "      <td>Urgent</td>\n",
       "      <td>2020-05-03</td>\n",
       "      <td>Penicillin</td>\n",
       "      <td>Abnormal</td>\n",
       "    </tr>\n",
       "    <tr>\n",
       "      <th>4</th>\n",
       "      <td>Mrs. Brandy Flowers</td>\n",
       "      <td>51</td>\n",
       "      <td>Male</td>\n",
       "      <td>O-</td>\n",
       "      <td>Arthritis</td>\n",
       "      <td>2021-07-09</td>\n",
       "      <td>Dustin Griffin</td>\n",
       "      <td>Jones, Brown and Murray</td>\n",
       "      <td>UnitedHealthcare</td>\n",
       "      <td>18086.344184</td>\n",
       "      <td>477</td>\n",
       "      <td>Urgent</td>\n",
       "      <td>2021-08-02</td>\n",
       "      <td>Paracetamol</td>\n",
       "      <td>Normal</td>\n",
       "    </tr>\n",
       "  </tbody>\n",
       "</table>\n",
       "</div>"
      ],
      "text/plain": [
       "                  Name  Age  Gender Blood Type Medical Condition  \\\n",
       "0      Tiffany Ramirez   81  Female         O-          Diabetes   \n",
       "1          Ruben Burns   35    Male         O+            Asthma   \n",
       "2            Chad Byrd   61    Male         B-           Obesity   \n",
       "3    Antonio Frederick   49    Male         B-            Asthma   \n",
       "4  Mrs. Brandy Flowers   51    Male         O-         Arthritis   \n",
       "\n",
       "  Date of Admission          Doctor                   Hospital  \\\n",
       "0        2022-11-17  Patrick Parker           Wallace-Hamilton   \n",
       "1        2023-06-01   Diane Jackson  Burke, Griffin and Cooper   \n",
       "2        2019-01-09      Paul Baker                 Walton LLC   \n",
       "3        2020-05-02  Brian Chandler                 Garcia Ltd   \n",
       "4        2021-07-09  Dustin Griffin    Jones, Brown and Murray   \n",
       "\n",
       "  Insurance Provider  Billing Amount  Room Number Admission Type  \\\n",
       "0           Medicare    37490.983364          146       Elective   \n",
       "1   UnitedHealthcare    47304.064845          404      Emergency   \n",
       "2           Medicare    36874.896997          292      Emergency   \n",
       "3           Medicare    23303.322092          480         Urgent   \n",
       "4   UnitedHealthcare    18086.344184          477         Urgent   \n",
       "\n",
       "  Discharge Date   Medication  Test Results  \n",
       "0     2022-12-01      Aspirin  Inconclusive  \n",
       "1     2023-06-15      Lipitor        Normal  \n",
       "2     2019-02-08      Lipitor        Normal  \n",
       "3     2020-05-03   Penicillin      Abnormal  \n",
       "4     2021-08-02  Paracetamol        Normal  "
      ]
     },
     "execution_count": 3,
     "metadata": {},
     "output_type": "execute_result"
    }
   ],
   "source": [
    "raw_data.head()"
   ]
  },
  {
   "cell_type": "code",
   "execution_count": 4,
   "id": "537be098-87f4-45b5-b09a-77b318e1a774",
   "metadata": {
    "tags": []
   },
   "outputs": [
    {
     "name": "stdout",
     "output_type": "stream",
     "text": [
      "<class 'pandas.core.frame.DataFrame'>\n",
      "RangeIndex: 10000 entries, 0 to 9999\n",
      "Data columns (total 15 columns):\n",
      " #   Column              Non-Null Count  Dtype  \n",
      "---  ------              --------------  -----  \n",
      " 0   Name                10000 non-null  object \n",
      " 1   Age                 10000 non-null  int64  \n",
      " 2   Gender              10000 non-null  object \n",
      " 3   Blood Type          10000 non-null  object \n",
      " 4   Medical Condition   10000 non-null  object \n",
      " 5   Date of Admission   10000 non-null  object \n",
      " 6   Doctor              10000 non-null  object \n",
      " 7   Hospital            10000 non-null  object \n",
      " 8   Insurance Provider  10000 non-null  object \n",
      " 9   Billing Amount      10000 non-null  float64\n",
      " 10  Room Number         10000 non-null  int64  \n",
      " 11  Admission Type      10000 non-null  object \n",
      " 12  Discharge Date      10000 non-null  object \n",
      " 13  Medication          10000 non-null  object \n",
      " 14  Test Results        10000 non-null  object \n",
      "dtypes: float64(1), int64(2), object(12)\n",
      "memory usage: 1.1+ MB\n"
     ]
    }
   ],
   "source": [
    "raw_data.info()"
   ]
  },
  {
   "cell_type": "code",
   "execution_count": 5,
   "id": "fcc5115d-207b-4e4e-a603-e7733bd3409f",
   "metadata": {
    "tags": []
   },
   "outputs": [
    {
     "name": "stdout",
     "output_type": "stream",
     "text": [
      "Medical Condition: ->    ['Diabetes' 'Asthma' 'Obesity' 'Arthritis' 'Hypertension' 'Cancer']\n",
      "Test Results: ->    ['Diabetes' 'Asthma' 'Obesity' 'Arthritis' 'Hypertension' 'Cancer']\n",
      "Admission Type: ->    ['Diabetes' 'Asthma' 'Obesity' 'Arthritis' 'Hypertension' 'Cancer']\n"
     ]
    }
   ],
   "source": [
    "print('Medical Condition: ->   ',raw_data['Medical Condition'].unique())\n",
    "print('Test Results: ->   ',raw_data['Medical Condition'].unique())\n",
    "print('Admission Type: ->   ',raw_data['Medical Condition'].unique())"
   ]
  },
  {
   "cell_type": "code",
   "execution_count": 6,
   "id": "43c15ae7-2bda-4fde-9bb7-a04012d335bb",
   "metadata": {
    "tags": []
   },
   "outputs": [
    {
     "name": "stdout",
     "output_type": "stream",
     "text": [
      "[]\n"
     ]
    }
   ],
   "source": [
    "#check if whitespace in the columns\n",
    "cols_with_blank = [col for col in raw_data.columns if (raw_data[col] == \" \").any()]\n",
    "print(cols_with_blank)"
   ]
  },
  {
   "cell_type": "markdown",
   "id": "287ed92a-a57f-4acd-b1a5-e23ac380da6f",
   "metadata": {},
   "source": [
    "### 2 Data cleaning"
   ]
  },
  {
   "cell_type": "code",
   "execution_count": 7,
   "id": "4af56264-d219-4d3f-8b16-6179bba77f93",
   "metadata": {
    "tags": []
   },
   "outputs": [],
   "source": [
    "task_col = ['Medical Conition', 'Test Result', 'Billing Amount']"
   ]
  },
  {
   "cell_type": "code",
   "execution_count": 8,
   "id": "d03af71f-8b4e-494f-883d-cab5f133fe0b",
   "metadata": {
    "tags": []
   },
   "outputs": [
    {
     "data": {
      "text/plain": [
       "Name                  0\n",
       "Age                   0\n",
       "Gender                0\n",
       "Blood Type            0\n",
       "Medical Condition     0\n",
       "Date of Admission     0\n",
       "Doctor                0\n",
       "Hospital              0\n",
       "Insurance Provider    0\n",
       "Billing Amount        0\n",
       "Room Number           0\n",
       "Admission Type        0\n",
       "Discharge Date        0\n",
       "Medication            0\n",
       "Test Results          0\n",
       "dtype: int64"
      ]
     },
     "execution_count": 8,
     "metadata": {},
     "output_type": "execute_result"
    }
   ],
   "source": [
    "raw_data.isnull().sum()"
   ]
  },
  {
   "cell_type": "code",
   "execution_count": 9,
   "id": "aee5585f-f70f-46cb-ac1d-60c50e2456a9",
   "metadata": {
    "tags": []
   },
   "outputs": [
    {
     "name": "stdout",
     "output_type": "stream",
     "text": [
      "Asthma          1708\n",
      "Cancer          1703\n",
      "Hypertension    1688\n",
      "Arthritis       1650\n",
      "Obesity         1628\n",
      "Diabetes        1623\n",
      "Name: Medical Condition, dtype: int64 \n",
      "\n",
      "Abnormal        3456\n",
      "Inconclusive    3277\n",
      "Normal          3267\n",
      "Name: Test Results, dtype: int64\n"
     ]
    }
   ],
   "source": [
    "print(raw_data['Medical Condition'].value_counts(),'\\n')\n",
    "print(raw_data['Test Results'].value_counts())"
   ]
  },
  {
   "cell_type": "markdown",
   "id": "e3be2eb4-5ddc-478c-bb4d-e253b1db5756",
   "metadata": {},
   "source": [
    "##### The raw data appears to be relatively clean, and no significant data quality issues were detected during initial inspection. As a result, no extensive preprocessing or data cleaning steps were required."
   ]
  },
  {
   "cell_type": "code",
   "execution_count": 10,
   "id": "1ed90c35-b700-4caa-a58f-0c07b200c790",
   "metadata": {
    "tags": []
   },
   "outputs": [],
   "source": [
    "#copy the raw data to new dataframe and named data\n",
    "data = raw_data.copy()"
   ]
  },
  {
   "cell_type": "markdown",
   "id": "00969a06-7be7-4a19-92a7-c1b1d5d1cddb",
   "metadata": {},
   "source": [
    "### 3. EDA"
   ]
  },
  {
   "cell_type": "markdown",
   "id": "87157e9b-6726-49d6-a5c6-a251460f99c7",
   "metadata": {},
   "source": [
    "### Gender vs Test Results Distribution\n",
    "\n",
    "The distribution of test results for **females** is relatively balanced across the three categories (Inconclusive, Normal, Abnormal).  \n",
    "\n",
    "In contrast, **males** show a noticeably higher count in the **Abnormal** category.  \n",
    "This may suggest that male patients are more likely to be affected by certain medical conditions that are more prone to generating abnormal test results."
   ]
  },
  {
   "cell_type": "code",
   "execution_count": 12,
   "id": "7127c2f4-8415-4640-a78b-e9be61b2d426",
   "metadata": {
    "tags": []
   },
   "outputs": [
    {
     "data": {
      "image/png": "[encoded data removed]",
      "text/plain": [
       "<Figure size 576x360 with 1 Axes>"
      ]
     },
     "metadata": {},
     "output_type": "display_data"
    },
    {
     "data": {
      "text/plain": [
       "<Figure size 432x288 with 0 Axes>"
      ]
     },
     "metadata": {},
     "output_type": "display_data"
    }
   ],
   "source": [
    "plt.figure(figsize=(8,5))\n",
    "sns.countplot(data=data, x='Gender', hue='Test Results')\n",
    "plt.title(\"Gender vs Test Results\")\n",
    "plt.xlabel(\"Gender\")\n",
    "plt.ylabel(\"Count\")\n",
    "plt.show()\n",
    "plt.savefig(\"img/Gender vs Test Results\")"
   ]
  },
  {
   "cell_type": "markdown",
   "id": "63899aa6-96fe-4ab8-89a5-d544a69c2a8d",
   "metadata": {},
   "source": [
    "### Gender vs Medical Condition\n",
    "\n",
    "From the chart below, we observe that **female patients** are more frequently diagnosed with **Asthma** and **Cancer** compared to male patients.  \n",
    "For other medical conditions, the distribution among females is relatively balanced.\n",
    "\n",
    "In contrast, **male patients** show a more uneven distribution across diseases, with higher counts in **Asthma**, **Arthritis**, **Hypertension**, and **Cancer**.\n",
    "\n",
    "This suggests that the observed difference in **Test Result** (seen in the previous chart) may not be directly caused by the type of medical condition itself.  \n",
    "In fact, female patients appear to have more severe or frequent illnesses overall.\n",
    "\n",
    "This raises an important hypothesis:  \n",
    "> Could the **age factor** be responsible for the higher abnormal results among males?  \n",
    "Given that male patients might generally be older, age-related decline in immune function may lead to more pronounced abnormal test outcomes.\n"
   ]
  },
  {
   "cell_type": "code",
   "execution_count": 13,
   "id": "89039adb-bf60-4da2-9920-21b10c5baccd",
   "metadata": {
    "tags": []
   },
   "outputs": [
    {
     "data": {
      "image/png": "[encoded data removed]",
      "text/plain": [
       "<Figure size 864x432 with 1 Axes>"
      ]
     },
     "metadata": {},
     "output_type": "display_data"
    },
    {
     "data": {
      "text/plain": [
       "<Figure size 432x288 with 0 Axes>"
      ]
     },
     "metadata": {},
     "output_type": "display_data"
    }
   ],
   "source": [
    "plt.figure(figsize=(12,6))\n",
    "sns.countplot(data=data, x='Gender', hue='Medical Condition')\n",
    "plt.title(\"Gener vs Medical Condition\")\n",
    "plt.xlabel(\"Gender\")\n",
    "plt.ylabel(\"Count\")\n",
    "plt.show()\n",
    "plt.savefig(\"img/Gender vs Medical Condition.png\")"
   ]
  },
  {
   "cell_type": "markdown",
   "id": "fa8bf46f-732f-4ee6-b0d6-f8ea8dbb86c0",
   "metadata": {},
   "source": [
    "### Age Distribution by Gender and Test Results\n",
    "\n",
    "As shown in the boxplot above, the **average age of female patients** is very consistent across all Test Result(Inconclusive, Normal, Abnormal), hovering around **52–53 years**.\n",
    "\n",
    "Among **male patients**, the average age for those with **Normal** Test Results appears slightly higher than for those with Abnormal or Inconclusive results.\n",
    "\n",
    "These observations suggest that **age is not the driving factor** behind the higher proportion of abnormal test results observed in male patients.  \n",
    "If age were the main cause, we would expect patients with abnormal results to be consistently older, which is not supported by this distribution.\n",
    "\n",
    "Thus, other factors such as **underlying medical conditions, genetic predisposition, or treatment response differences between genders** may play a more significant role."
   ]
  },
  {
   "cell_type": "code",
   "execution_count": 14,
   "id": "fbf67cf5-4701-47d9-8638-c5c906c9b9c7",
   "metadata": {
    "tags": []
   },
   "outputs": [
    {
     "data": {
      "image/png": "[encoded data removed]",
      "text/plain": [
       "<Figure size 720x432 with 1 Axes>"
      ]
     },
     "metadata": {},
     "output_type": "display_data"
    },
    {
     "data": {
      "text/plain": [
       "<Figure size 432x288 with 0 Axes>"
      ]
     },
     "metadata": {},
     "output_type": "display_data"
    }
   ],
   "source": [
    "plt.figure(figsize=(10, 6))\n",
    "sns.boxplot(data=data, x=\"Gender\", y=\"Age\", hue=\"Test Results\")\n",
    "plt.title(\"Age Distribution by Gender and Test Results\")\n",
    "plt.show()\n",
    "plt.savefig(\"img/Age Distribution by Gender and Test Results.png\")"
   ]
  },
  {
   "cell_type": "markdown",
   "id": "73402231-1af3-4792-9169-535f49ca89ec",
   "metadata": {},
   "source": [
    "### Admission Type vs Test Results\n",
    "\n",
    "This chart compares the distribution of test results across different **admission types**: Elective, Emergency, and Urgent.\n",
    "\n",
    "Observations:\n",
    "\n",
    "- All three admission types have relatively balanced distributions among Inconclusive, Normal, and Abnormal test results.\n",
    "- However, **Emergency admissions** show a **slightly higher count of abnormal results**, which may reflect the fact that emergency patients are more likely to be in critical condition and thus have a higher chance of abnormal findings.\n",
    "- **Elective admissions** (scheduled procedures or check-ups) tend to have a marginally higher proportion of normal and inconclusive results.\n",
    "\n",
    "These differences, though not extreme, suggest that **admission context** may carry some signal about patient risk level, and could serve as a useful feature in downstream predictive modeling."
   ]
  },
  {
   "cell_type": "code",
   "execution_count": 15,
   "id": "b4981edd-c205-426c-863a-cc7e165ac3bb",
   "metadata": {
    "tags": []
   },
   "outputs": [
    {
     "data": {
      "image/png": "[encoded data removed]",
      "text/plain": [
       "<Figure size 864x432 with 1 Axes>"
      ]
     },
     "metadata": {},
     "output_type": "display_data"
    },
    {
     "data": {
      "text/plain": [
       "<Figure size 432x288 with 0 Axes>"
      ]
     },
     "metadata": {},
     "output_type": "display_data"
    }
   ],
   "source": [
    "plt.figure(figsize=(12,6))\n",
    "sns.countplot(data=data, x='Admission Type', hue='Test Results')\n",
    "plt.title(\"Admission vs Test Results\")\n",
    "plt.xlabel(\"Admission Type\")\n",
    "plt.ylabel(\"Test Results\")\n",
    "plt.show()\n",
    "plt.savefig(\"img/Admission vs Test Results.png\")"
   ]
  },
  {
   "cell_type": "markdown",
   "id": "ddf73695-4b19-4908-a308-c739846de449",
   "metadata": {},
   "source": [
    "### Gender vs Admission Type\n",
    "\n",
    "This bar chart compares the distribution of **admission types** between **male** and **female** patients.\n",
    "\n",
    "Observations:\n",
    "\n",
    "- Both genders have a similar overall distribution across Elective, Emergency, and Urgent admission types.\n",
    "- **Female patients** have a slightly higher number of **Urgent admissions**, while **males** have a marginally higher number of **Emergency admissions**.\n",
    "- The number of **Elective admissions** is roughly equal between genders."
   ]
  },
  {
   "cell_type": "code",
   "execution_count": 17,
   "id": "065cb925-1bb3-4af5-8488-7420acf42e5b",
   "metadata": {
    "tags": []
   },
   "outputs": [
    {
     "data": {
      "image/png": "[encoded data removed]",
      "text/plain": [
       "<Figure size 864x432 with 1 Axes>"
      ]
     },
     "metadata": {},
     "output_type": "display_data"
    },
    {
     "data": {
      "text/plain": [
       "<Figure size 432x288 with 0 Axes>"
      ]
     },
     "metadata": {},
     "output_type": "display_data"
    }
   ],
   "source": [
    "plt.figure(figsize=(12,6))\n",
    "sns.countplot(data=data, x='Gender', hue='Admission Type')\n",
    "plt.title(\"Gender vs Admission Type\")\n",
    "plt.xlabel(\"Gender\")\n",
    "plt.ylabel(\"Admission Type\")\n",
    "plt.show()\n",
    "plt.savefig(\"img/Gender vs Admission Type.png\")"
   ]
  },
  {
   "cell_type": "markdown",
   "id": "ffb69bec-724b-4451-b575-f6cb3713ba01",
   "metadata": {},
   "source": [
    "### Age Distribution by Admission Type and Test Results\n",
    "\n",
    "This boxplot shows the age distribution across different **admission types** (Elective, Emergency, Urgent), further broken down by **test result categories** (Inconclusive, Normal, Abnormal).\n",
    "\n",
    "Observations:\n",
    "\n",
    "- The overall **age distribution is similar across all three admission types**, with median ages falling between **50 and 55 years**.\n",
    "- Each admission type shows **comparable age patterns across test result groups**, indicating that **age is not a dominant factor** in determining the test outcome within a given admission context.\n",
    "- **No significant skew or outliers** are observed in any specific combination of admission type and test result.\n",
    "\n",
    "This analysis supports the earlier conclusion that neither age nor admission type alone explains the higher rate of abnormal test results in certain subgroups.  "
   ]
  },
  {
   "cell_type": "code",
   "execution_count": 18,
   "id": "2ce207b0-c2e6-45c2-b3de-a86513133721",
   "metadata": {
    "tags": []
   },
   "outputs": [
    {
     "data": {
      "image/png": "[encoded data removed]",
      "text/plain": [
       "<Figure size 720x432 with 1 Axes>"
      ]
     },
     "metadata": {},
     "output_type": "display_data"
    },
    {
     "data": {
      "text/plain": [
       "<Figure size 432x288 with 0 Axes>"
      ]
     },
     "metadata": {},
     "output_type": "display_data"
    }
   ],
   "source": [
    "plt.figure(figsize=(10, 6))\n",
    "sns.boxplot(data=data, x=\"Admission Type\", y=\"Age\", hue=\"Test Results\")\n",
    "plt.title(\"Age Distribution by Gender and Test Results\")\n",
    "plt.show()\n",
    "plt.savefig(\"img/Age Distribution by Gender and Test Results.png\")"
   ]
  },
  {
   "cell_type": "markdown",
   "id": "f192ec5f-9efc-4e73-b187-7154c1340439",
   "metadata": {},
   "source": [
    "### Blood Type vs Test Results\n",
    "\n",
    "This bar chart illustrates the relationship between **Blood Type** and **Test Results**.\n",
    "\n",
    "Observation:\n",
    "\n",
    "- Among all blood types, **O- shows a noticeably higher number of abnormal test results** compared to other types.\n",
    "- In previous visualizations, we observed that **male patients had a slightly higher count of O- blood type** cases than females.\n",
    "- Combining these findings, it is plausible that the **elevated rate of abnormal test results among males** could be partially explained by a higher prevalence of the **O- blood group** within the male population."
   ]
  },
  {
   "cell_type": "code",
   "execution_count": 19,
   "id": "d2c925c9-edfb-4949-9397-6a6d7875a90d",
   "metadata": {
    "tags": []
   },
   "outputs": [
    {
     "data": {
      "image/png": "[encoded data removed]",
      "text/plain": [
       "<Figure size 864x432 with 1 Axes>"
      ]
     },
     "metadata": {},
     "output_type": "display_data"
    },
    {
     "data": {
      "text/plain": [
       "<Figure size 432x288 with 0 Axes>"
      ]
     },
     "metadata": {},
     "output_type": "display_data"
    }
   ],
   "source": [
    "plt.figure(figsize=(12,6))\n",
    "sns.countplot(data=data, x='Blood Type', hue='Test Results')\n",
    "plt.title(\"Blood Type vs Test Results\")\n",
    "plt.xlabel(\"Blood Type\")\n",
    "plt.ylabel(\"Test Results\")\n",
    "plt.show()\n",
    "plt.savefig(\"img/Blood Type vs Test Results.png\")"
   ]
  },
  {
   "cell_type": "markdown",
   "id": "09588aa8-b27d-4075-9ad4-be5a3a4c575c",
   "metadata": {
    "tags": []
   },
   "source": [
    "### Blood Type Distribution by Gender\n",
    "\n",
    "This bar chart displays the distribution of different **blood types** across **female and male** patients.\n",
    "\n",
    "Observation:\n",
    "\n",
    "- The **O- blood type** appears significantly more common in **male** patients compared to females.\n",
    "- As seen in the previous plot, the O- group also had one of the **highest counts of abnormal test results** across all blood types.\n",
    "- This reinforces the hypothesis that the **higher abnormal test rate among male patients** may be partially influenced by the **overrepresentation of O- blood type** in the male population."
   ]
  },
  {
   "cell_type": "code",
   "execution_count": 20,
   "id": "ca6db0ce-077d-433f-977e-658eaa73586d",
   "metadata": {
    "tags": []
   },
   "outputs": [
    {
     "data": {
      "image/png": "[encoded data removed]",
      "text/plain": [
       "<Figure size 864x432 with 1 Axes>"
      ]
     },
     "metadata": {},
     "output_type": "display_data"
    },
    {
     "data": {
      "text/plain": [
       "<Figure size 432x288 with 0 Axes>"
      ]
     },
     "metadata": {},
     "output_type": "display_data"
    }
   ],
   "source": [
    "plt.figure(figsize=(12,6))\n",
    "sns.countplot(data=data, x='Gender', hue='Blood Type')\n",
    "plt.title(\"Blood Type vs Test Results\")\n",
    "plt.xlabel(\"Blood Type\")\n",
    "plt.ylabel(\"Test Results\")\n",
    "plt.show()\n",
    "plt.savefig(\"img/Blood Type vs Test Results.png\")"
   ]
  },
  {
   "cell_type": "markdown",
   "id": "94f44c35-b46d-4ced-a724-d9e08c9535bc",
   "metadata": {},
   "source": [
    "### Age Group Distribution in Abnormal Test Results (by Gender)\n",
    "\n",
    "In this analysis, we divided patients into five age groups:  \n",
    "- **<30**, **30–45**, **45–60**, **60–75**, and **75+**\n",
    "\n",
    "We then filtered for patients with **Abnormal** test results and examined the gender distribution within each age group.\n",
    "\n",
    "Observations:\n",
    "\n",
    "- The **45–60 age group** has the highest number of abnormal cases for both **males** and **females**.\n",
    "- Surprisingly, the number of abnormal cases in the **<30 group** is **higher than in the 75+ group**, which challenges the common assumption that elderly individuals are more prone to abnormal test results.\n",
    "- This finding suggests that **younger individuals may also be significantly affected by certain conditions**, potentially related to lifestyle, genetic factors, or early onset chronic diseases.\n",
    "\n",
    "This motivates further analysis to explore **what types of diseases younger patients are more likely to be diagnosed with**, which could reveal patterns that contradict general clinical expectations.\n"
   ]
  },
  {
   "cell_type": "code",
   "execution_count": 21,
   "id": "7a196c5d-8c97-4c78-977c-19585d2d5228",
   "metadata": {
    "tags": []
   },
   "outputs": [
    {
     "data": {
      "image/png": "[encoded data removed]",
      "text/plain": [
       "<Figure size 864x360 with 1 Axes>"
      ]
     },
     "metadata": {},
     "output_type": "display_data"
    }
   ],
   "source": [
    "plt.figure(figsize=(12,5))\n",
    "data[\"Age Group\"] = pd.cut(data[\"Age\"], bins=[0, 30, 45, 60, 75, 100],\n",
    "                         labels=[\"<30\", \"30-45\", \"45-60\", \"60-75\", \"75+\"])\n",
    "sns.countplot(data=data[data[\"Test Results\"] == \"Abnormal\"], x='Age Group', hue='Gender')\n",
    "plt.xlabel('Age Group')\n",
    "plt.ylabel('Count')\n",
    "plt.title('Abnormal in Different Male and Female Age Group')\n",
    "plt.savefig(\"img/Abnormal in Different Male and Female Age Group.png\")"
   ]
  },
  {
   "cell_type": "markdown",
   "id": "d95a40ac-ea94-4af5-a0ae-6dcdd9ef9b7f",
   "metadata": {
    "tags": []
   },
   "source": [
    "### Abnormal Test Results by Age Group and Medical Condition\n",
    "\n",
    "This chart shows the distribution of **abnormal test results** across different **age groups**, further broken down by **medical condition**.\n",
    "\n",
    "Observation:\n",
    "\n",
    "- In the **<30 age group**, the most common abnormal cases are linked to **Asthma** and **Hypertension**, suggesting that chronic conditions are affecting even younger patients.\n",
    "- Among individuals aged **30–45**, **Arthritis** emerges as the leading medical condition associated with abnormal results.\n",
    "- In the **45–60 group**, the frequency of abnormal results related to **Asthma**, **Arthritis**, and **Cancer** rises significantly, indicating this age range may be a critical risk window.\n",
    "- For patients aged **60–75**, **Hypertension**, **Cancer**, and **Asthma** are the dominant conditions.\n",
    "- In the **75+ group**, the overall case count is lower, but **Cancer** and **Hypertension** remain the leading contributors.\n",
    "\n",
    "These patterns highlight that **different age groups are associated with different dominant risk factors**, which may reflect a combination of lifestyle factors, disease progression, and physiological changes with aging.\n",
    "\n",
    "Such insights are valuable for:\n",
    "- Tailoring early screening strategies\n",
    "- Feature engineering in predictive models\n",
    "- Designing age-specific healthcare interventions\n"
   ]
  },
  {
   "cell_type": "code",
   "execution_count": 22,
   "id": "bdc52988-a113-49f4-bec9-13b09d81e0dc",
   "metadata": {
    "tags": []
   },
   "outputs": [
    {
     "data": {
      "image/png": "[encoded data removed]",
      "text/plain": [
       "<Figure size 864x360 with 1 Axes>"
      ]
     },
     "metadata": {},
     "output_type": "display_data"
    }
   ],
   "source": [
    "plt.figure(figsize=(12,5))\n",
    "sns.countplot(data=data[data[\"Test Results\"] == \"Abnormal\"], x='Age Group', hue='Medical Condition')\n",
    "plt.xlabel('Age Group')\n",
    "plt.ylabel('Count')\n",
    "plt.title('Abnormal in Different Age Group and Medical Condition')\n",
    "plt.savefig(\"img/Abnormal in Different Age Group and Medical Condition.png\")"
   ]
  },
  {
   "cell_type": "code",
   "execution_count": 24,
   "id": "fcfd1bfd-a402-4b38-b0c1-01efcecc7102",
   "metadata": {
    "tags": []
   },
   "outputs": [],
   "source": [
    "#convert str type to datetime type\n",
    "data['Date of Admission'] = pd.to_datetime(data['Date of Admission'])\n",
    "data['Discharge Date'] = pd.to_datetime(data['Discharge Date'])"
   ]
  },
  {
   "cell_type": "code",
   "execution_count": 25,
   "id": "63aedb44-4fc6-4435-955a-852019c36ef4",
   "metadata": {
    "tags": []
   },
   "outputs": [],
   "source": [
    "#only keep the days number\n",
    "data['Stay Days'] = (data['Discharge Date'] - data['Date of Admission']).dt.days"
   ]
  },
  {
   "cell_type": "code",
   "execution_count": 26,
   "id": "a0d0ef08-45f7-45ec-8a9b-8a473c0e2a6f",
   "metadata": {
    "tags": []
   },
   "outputs": [
    {
     "data": {
      "text/html": [
       "<div>\n",
       "<style scoped>\n",
       "    .dataframe tbody tr th:only-of-type {\n",
       "        vertical-align: middle;\n",
       "    }\n",
       "\n",
       "    .dataframe tbody tr th {\n",
       "        vertical-align: top;\n",
       "    }\n",
       "\n",
       "    .dataframe thead th {\n",
       "        text-align: right;\n",
       "    }\n",
       "</style>\n",
       "<table border=\"1\" class=\"dataframe\">\n",
       "  <thead>\n",
       "    <tr style=\"text-align: right;\">\n",
       "      <th></th>\n",
       "      <th>Name</th>\n",
       "      <th>Age</th>\n",
       "      <th>Gender</th>\n",
       "      <th>Blood Type</th>\n",
       "      <th>Medical Condition</th>\n",
       "      <th>Date of Admission</th>\n",
       "      <th>Doctor</th>\n",
       "      <th>Hospital</th>\n",
       "      <th>Insurance Provider</th>\n",
       "      <th>Billing Amount</th>\n",
       "      <th>Room Number</th>\n",
       "      <th>Admission Type</th>\n",
       "      <th>Discharge Date</th>\n",
       "      <th>Medication</th>\n",
       "      <th>Test Results</th>\n",
       "      <th>Age Group</th>\n",
       "      <th>Stay Days</th>\n",
       "    </tr>\n",
       "  </thead>\n",
       "  <tbody>\n",
       "  </tbody>\n",
       "</table>\n",
       "</div>"
      ],
      "text/plain": [
       "Empty DataFrame\n",
       "Columns: [Name, Age, Gender, Blood Type, Medical Condition, Date of Admission, Doctor, Hospital, Insurance Provider, Billing Amount, Room Number, Admission Type, Discharge Date, Medication, Test Results, Age Group, Stay Days]\n",
       "Index: []"
      ]
     },
     "execution_count": 26,
     "metadata": {},
     "output_type": "execute_result"
    }
   ],
   "source": [
    "#check is there is a wrong data (discharge date is earlier than admission date)\n",
    "data[data['Stay Days'] < 0]"
   ]
  },
  {
   "cell_type": "markdown",
   "id": "9f6e9c1b-79a2-4466-a9c0-19db2fab928a",
   "metadata": {},
   "source": [
    "我们发现三种化验结果的住院时长在平均值为15左右，中位数时16，标准差在8左右浮动，并且样本平衡可信度较高"
   ]
  },
  {
   "cell_type": "code",
   "execution_count": 27,
   "id": "667d0ef3-cebf-4dd8-bdd9-da405fc2f1cd",
   "metadata": {
    "tags": []
   },
   "outputs": [
    {
     "data": {
      "text/html": [
       "<div>\n",
       "<style scoped>\n",
       "    .dataframe tbody tr th:only-of-type {\n",
       "        vertical-align: middle;\n",
       "    }\n",
       "\n",
       "    .dataframe tbody tr th {\n",
       "        vertical-align: top;\n",
       "    }\n",
       "\n",
       "    .dataframe thead th {\n",
       "        text-align: right;\n",
       "    }\n",
       "</style>\n",
       "<table border=\"1\" class=\"dataframe\">\n",
       "  <thead>\n",
       "    <tr style=\"text-align: right;\">\n",
       "      <th></th>\n",
       "      <th>mean</th>\n",
       "      <th>median</th>\n",
       "      <th>std</th>\n",
       "      <th>count</th>\n",
       "    </tr>\n",
       "    <tr>\n",
       "      <th>Test Results</th>\n",
       "      <th></th>\n",
       "      <th></th>\n",
       "      <th></th>\n",
       "      <th></th>\n",
       "    </tr>\n",
       "  </thead>\n",
       "  <tbody>\n",
       "    <tr>\n",
       "      <th>Abnormal</th>\n",
       "      <td>15.688079</td>\n",
       "      <td>16.0</td>\n",
       "      <td>8.583560</td>\n",
       "      <td>3456</td>\n",
       "    </tr>\n",
       "    <tr>\n",
       "      <th>Inconclusive</th>\n",
       "      <td>15.472688</td>\n",
       "      <td>16.0</td>\n",
       "      <td>8.644392</td>\n",
       "      <td>3277</td>\n",
       "    </tr>\n",
       "    <tr>\n",
       "      <th>Normal</th>\n",
       "      <td>15.517600</td>\n",
       "      <td>15.0</td>\n",
       "      <td>8.610681</td>\n",
       "      <td>3267</td>\n",
       "    </tr>\n",
       "  </tbody>\n",
       "</table>\n",
       "</div>"
      ],
      "text/plain": [
       "                   mean  median       std  count\n",
       "Test Results                                    \n",
       "Abnormal      15.688079    16.0  8.583560   3456\n",
       "Inconclusive  15.472688    16.0  8.644392   3277\n",
       "Normal        15.517600    15.0  8.610681   3267"
      ]
     },
     "execution_count": 27,
     "metadata": {},
     "output_type": "execute_result"
    }
   ],
   "source": [
    "#calculate the mean, median, std and count of Test Results\n",
    "data.groupby(\"Test Results\")[\"Stay Days\"].agg([\"mean\", \"median\", \"std\", \"count\"])"
   ]
  },
  {
   "cell_type": "markdown",
   "id": "4319a6ae-13ab-4cd2-9d5c-1d8d63fcd30a",
   "metadata": {},
   "source": [
    "我们可以知道大部分的病症都需要住院检查或者是治疗20天以上\n",
    "### Hospital Stay Duration vs Test Results\n",
    "\n",
    "This chart shows the distribution of **test results** across different **hospital stay duration groups**.\n",
    "\n",
    "Observation:\n",
    "\n",
    "- A significant portion of patients stayed in the hospital for **more than 20 days**, regardless of their test outcome.\n",
    "- The **20+ days group** has the highest number of cases in Test Result.\n",
    "- This suggests that many medical conditions in the dataset require **extended hospitalization**—either for in-depth diagnosis, ongoing treatment, or long-term monitoring.\n",
    "\n",
    "Such a trend may reflect:\n",
    "- The **complexity or severity** of conditions present in this population\n",
    "- The healthcare system's preference for **inpatient observation**\n",
    "- Or the nature of certain diseases that inherently require **prolonged care**\n",
    "\n",
    "This insight is important for resource planning, patient risk stratification, and may also indicate that **\"Stay Days\" is a strong predictor** to consider in downstream modeling."
   ]
  },
  {
   "cell_type": "code",
   "execution_count": 28,
   "id": "5b4b0ef2-0ed5-463d-9fae-f90f7ce1555f",
   "metadata": {
    "tags": []
   },
   "outputs": [
    {
     "data": {
      "image/png": "[encoded data removed]",
      "text/plain": [
       "<Figure size 864x360 with 1 Axes>"
      ]
     },
     "metadata": {},
     "output_type": "display_data"
    }
   ],
   "source": [
    "data[\"Stay Days Group\"] = pd.cut(data[\"Stay Days\"], bins=[0, 5, 10, 15, 20, 100],\n",
    "                         labels=[\"<5\", \"5-10\", \"10-15\", \"15-20\", \"20+\"])\n",
    "plt.figure(figsize=(12,5))\n",
    "sns.countplot(data=data,x='Stay Days Group',hue='Test Results')\n",
    "plt.xlabel('Stay Days Group')\n",
    "plt.ylabel('Count')\n",
    "plt.title('Stay Days in Hospital VS Test Result')\n",
    "plt.savefig(\"img/Stay Days in Hospital VS Test Result.png\")"
   ]
  },
  {
   "cell_type": "markdown",
   "id": "d1b0e4fc-93bc-42e4-ab2f-1a0bdf4058a0",
   "metadata": {},
   "source": [
    "### Gender + Hospital Stay Duration vs Test Results\n",
    "\n",
    "This heatmap illustrates how the combination of **gender** and **hospital stay duration** correlates with different **test result categories**.  \n",
    "The color intensity represents the proportion of each test result type within each subgroup — **darker colors indicate stronger associations**.\n",
    "\n",
    "Observation:\n",
    "\n",
    "- **Male patients hospitalized for 5 to 20 days** exhibit a noticeably higher proportion of **Abnormal test results**, ranging from **35% to 37%**.\n",
    "- In contrast, **female patients** in the same stay duration groups tend to have a more balanced distribution, with abnormal rates closer to **33%**.\n",
    "- This gender difference may suggest that **male patients undergoing medium-length hospital stays** experience:\n",
    "  - Higher clinical risk\n",
    "  - More complex diagnostic or therapeutic processes\n",
    "  - Or potentially lower recovery rates in that period"
   ]
  },
  {
   "cell_type": "code",
   "execution_count": 29,
   "id": "925727d1-c8e3-4a89-af23-cf6763dc703b",
   "metadata": {
    "tags": []
   },
   "outputs": [
    {
     "data": {
      "image/png": "[encoded data removed]",
      "text/plain": [
       "<Figure size 720x576 with 2 Axes>"
      ]
     },
     "metadata": {},
     "output_type": "display_data"
    },
    {
     "data": {
      "text/plain": [
       "<Figure size 432x288 with 0 Axes>"
      ]
     },
     "metadata": {},
     "output_type": "display_data"
    }
   ],
   "source": [
    "crosstab = pd.crosstab([data[\"Gender\"], data[\"Stay Days Group\"]], data[\"Test Results\"], normalize='index')\n",
    "plt.figure(figsize=(10, 8))\n",
    "sns.heatmap(crosstab, annot=True, cmap=\"YlGnBu\", fmt=\".2f\")\n",
    "plt.title(\"Gender+Stay Days Group VS Test Result Heatmap\")\n",
    "plt.show()\n",
    "plt.savefig(\"img/Gender+Stay Days Group VS Test Result Heatmap.png\")"
   ]
  },
  {
   "cell_type": "markdown",
   "id": "a569fa63-80dc-418d-a59d-1ce8015d748a",
   "metadata": {},
   "source": [
    "### Medical Condition + Hospital Stay Duration vs Test Results\n",
    "\n",
    "This heatmap visualizes how the combination of **medical condition** and **hospital stay duration** correlates with different **test result categories**.\n",
    "\n",
    "Observation:\n",
    "- Patients diagnosed with **Asthma**, **Diabetes**, and **Hypertension** show the **highest proportions of abnormal test results** during **10–20 days of hospitalization**, reaching up to **38–40%**.  \n",
    "  This suggests that the **middle-phase of hospitalization** may be a critical period for these conditions in terms of health deterioration or diagnostic sensitivity.\n",
    "\n",
    "- Interestingly, the group **Cancer–15–20** shows a **40% share of Normal test results**, which stands out from other patterns.  \n",
    "  A potential explanation is that patients with cancer may undergo **final-stage follow-up or recovery testing before discharge**, increasing the chance of normal results being recorded."
   ]
  },
  {
   "cell_type": "code",
   "execution_count": 30,
   "id": "9db86e5e-249f-4529-9ea8-11865b868baa",
   "metadata": {
    "tags": []
   },
   "outputs": [
    {
     "data": {
      "image/png": "[encoded data removed]",
      "text/plain": [
       "<Figure size 1080x720 with 2 Axes>"
      ]
     },
     "metadata": {},
     "output_type": "display_data"
    },
    {
     "data": {
      "text/plain": [
       "<Figure size 432x288 with 0 Axes>"
      ]
     },
     "metadata": {},
     "output_type": "display_data"
    }
   ],
   "source": [
    "crosstab = pd.crosstab([data[\"Medical Condition\"], data[\"Stay Days Group\"]], data[\"Test Results\"], normalize='index')\n",
    "plt.figure(figsize=(15, 10))\n",
    "sns.heatmap(crosstab, annot=True, cmap=\"YlGnBu\", fmt=\".2f\")\n",
    "plt.title(\"Medical Condition+Stay Days Group VS Test Result Heatmap\")\n",
    "plt.show()\n",
    "plt.savefig(\"img/Medical Condition+Stay Days Group VS Test Result Heatmap.png\")"
   ]
  },
  {
   "cell_type": "markdown",
   "id": "53b8b7f9-f31f-43a2-b6e1-68c50b29b347",
   "metadata": {},
   "source": [
    "The Billing of treating diabetes was the highest and arthritis was the lowest, which may be related to the price of the drug itself."
   ]
  },
  {
   "cell_type": "code",
   "execution_count": 31,
   "id": "fd394c3c-2f01-48c0-8f13-0ec1d4e512a0",
   "metadata": {
    "tags": []
   },
   "outputs": [
    {
     "data": {
      "text/html": [
       "<div>\n",
       "<style scoped>\n",
       "    .dataframe tbody tr th:only-of-type {\n",
       "        vertical-align: middle;\n",
       "    }\n",
       "\n",
       "    .dataframe tbody tr th {\n",
       "        vertical-align: top;\n",
       "    }\n",
       "\n",
       "    .dataframe thead th {\n",
       "        text-align: right;\n",
       "    }\n",
       "</style>\n",
       "<table border=\"1\" class=\"dataframe\">\n",
       "  <thead>\n",
       "    <tr style=\"text-align: right;\">\n",
       "      <th></th>\n",
       "      <th>mean</th>\n",
       "      <th>median</th>\n",
       "      <th>count</th>\n",
       "    </tr>\n",
       "    <tr>\n",
       "      <th>Medical Condition</th>\n",
       "      <th></th>\n",
       "      <th></th>\n",
       "      <th></th>\n",
       "    </tr>\n",
       "  </thead>\n",
       "  <tbody>\n",
       "    <tr>\n",
       "      <th>Diabetes</th>\n",
       "      <td>26060.116129</td>\n",
       "      <td>26162.203248</td>\n",
       "      <td>1623</td>\n",
       "    </tr>\n",
       "    <tr>\n",
       "      <th>Obesity</th>\n",
       "      <td>25720.842683</td>\n",
       "      <td>25365.022734</td>\n",
       "      <td>1628</td>\n",
       "    </tr>\n",
       "    <tr>\n",
       "      <th>Cancer</th>\n",
       "      <td>25539.096133</td>\n",
       "      <td>25610.641823</td>\n",
       "      <td>1703</td>\n",
       "    </tr>\n",
       "    <tr>\n",
       "      <th>Asthma</th>\n",
       "      <td>25416.869895</td>\n",
       "      <td>25073.451484</td>\n",
       "      <td>1708</td>\n",
       "    </tr>\n",
       "    <tr>\n",
       "      <th>Hypertension</th>\n",
       "      <td>25198.033973</td>\n",
       "      <td>24920.455173</td>\n",
       "      <td>1688</td>\n",
       "    </tr>\n",
       "    <tr>\n",
       "      <th>Arthritis</th>\n",
       "      <td>25187.631255</td>\n",
       "      <td>24739.166756</td>\n",
       "      <td>1650</td>\n",
       "    </tr>\n",
       "  </tbody>\n",
       "</table>\n",
       "</div>"
      ],
      "text/plain": [
       "                           mean        median  count\n",
       "Medical Condition                                   \n",
       "Diabetes           26060.116129  26162.203248   1623\n",
       "Obesity            25720.842683  25365.022734   1628\n",
       "Cancer             25539.096133  25610.641823   1703\n",
       "Asthma             25416.869895  25073.451484   1708\n",
       "Hypertension       25198.033973  24920.455173   1688\n",
       "Arthritis          25187.631255  24739.166756   1650"
      ]
     },
     "execution_count": 31,
     "metadata": {},
     "output_type": "execute_result"
    }
   ],
   "source": [
    "#calculate the Billing Amount of each Medical Condition\n",
    "\n",
    "data.groupby(\"Medical Condition\")[\"Billing Amount\"].agg([\"mean\", \"median\", \"count\"]).sort_values('mean', ascending=False)"
   ]
  },
  {
   "cell_type": "markdown",
   "id": "baa91cea-264f-4140-8766-2a5f7248904f",
   "metadata": {},
   "source": [
    "### Billing Amount Distribution by Medical Condition (Boxplot)\n",
    "\n",
    "This boxplot compares the **billing amount distribution** for different medical conditions, offering a deeper look into the **range, median, and variability** of healthcare costs.\n",
    "\n",
    "Observations:\n",
    "\n",
    "- **Diabetes** has the **highest median billing amount**, consistent with the summary table shown earlier. It also exhibits a relatively wide spread, indicating cost variability among patients.\n",
    "- **Arthritis** and **Hypertension** show **lower medians** and slightly narrower interquartile ranges, suggesting these conditions are generally less expensive and more consistent in cost.\n",
    "- All conditions display **significant cost variability**, with some cases reaching the upper limit of $50,000 — potentially due to complications, extended hospitalization, or intensive treatment protocols.\n",
    "- The presence of **outliers and long upper whiskers** in every group indicates that **a small subset of patients incurs exceptionally high costs**, which may be important for identifying high-risk or high-cost cases.\n",
    "\n",
    "These findings emphasize the value of using **statistical summaries and visualizations** together to gain a full picture of cost behavior across medical conditions — particularly when building billing prediction models or conducting cost optimization analysis.\n"
   ]
  },
  {
   "cell_type": "code",
   "execution_count": 32,
   "id": "186fef0b-ab94-4137-b51f-c0c9257190ee",
   "metadata": {
    "tags": []
   },
   "outputs": [
    {
     "data": {
      "image/png": "[encoded data removed]",
      "text/plain": [
       "<Figure size 720x432 with 1 Axes>"
      ]
     },
     "metadata": {},
     "output_type": "display_data"
    }
   ],
   "source": [
    "plt.figure(figsize=(10,6))\n",
    "sns.boxplot(data=data, x=\"Medical Condition\", y=\"Billing Amount\")\n",
    "plt.xlabel('Medical Condition')\n",
    "plt.ylabel('Billing Amount')\n",
    "plt.title('Billing Amount of Different Diseases')\n",
    "plt.savefig(\"img/Billing Amount of Different Diseases.png\")"
   ]
  },
  {
   "cell_type": "markdown",
   "id": "7549e641-9845-460c-bc1d-e2cefff85526",
   "metadata": {},
   "source": [
    "### Average Billing Amount by Medication\n",
    "\n",
    "observation\n",
    "- **Lipitor** has the **highest average billing amount**, followed by **Aspirin** and **Ibuprofen**.\n",
    "- Lipitor is commonly used in the treatment of **Diabetes**, which we previously identified as the **most expensive medical condition** in terms of treatment cost.\n",
    "- This helps explain why Diabetes incurs higher costs — not only due to the **medication itself**, but also due to associated factors such as:\n",
    "  - **Longer hospitalization periods** (as observed in previous analyses, often 15–20 days)\n",
    "  - **Ongoing monitoring and follow-up**\n",
    "  - **Co-occurring conditions** requiring combination treatments"
   ]
  },
  {
   "cell_type": "code",
   "execution_count": 33,
   "id": "f2fdb4e6-ec56-4781-bc72-659214516f45",
   "metadata": {
    "tags": []
   },
   "outputs": [
    {
     "data": {
      "text/html": [
       "<div>\n",
       "<style scoped>\n",
       "    .dataframe tbody tr th:only-of-type {\n",
       "        vertical-align: middle;\n",
       "    }\n",
       "\n",
       "    .dataframe tbody tr th {\n",
       "        vertical-align: top;\n",
       "    }\n",
       "\n",
       "    .dataframe thead th {\n",
       "        text-align: right;\n",
       "    }\n",
       "</style>\n",
       "<table border=\"1\" class=\"dataframe\">\n",
       "  <thead>\n",
       "    <tr style=\"text-align: right;\">\n",
       "      <th></th>\n",
       "      <th>mean</th>\n",
       "      <th>median</th>\n",
       "      <th>count</th>\n",
       "    </tr>\n",
       "    <tr>\n",
       "      <th>Medication</th>\n",
       "      <th></th>\n",
       "      <th></th>\n",
       "      <th></th>\n",
       "    </tr>\n",
       "  </thead>\n",
       "  <tbody>\n",
       "    <tr>\n",
       "      <th>Lipitor</th>\n",
       "      <td>26126.263179</td>\n",
       "      <td>26153.389223</td>\n",
       "      <td>2015</td>\n",
       "    </tr>\n",
       "    <tr>\n",
       "      <th>Aspirin</th>\n",
       "      <td>25795.641295</td>\n",
       "      <td>25541.652751</td>\n",
       "      <td>1968</td>\n",
       "    </tr>\n",
       "    <tr>\n",
       "      <th>Ibuprofen</th>\n",
       "      <td>25439.097865</td>\n",
       "      <td>25081.284280</td>\n",
       "      <td>1976</td>\n",
       "    </tr>\n",
       "    <tr>\n",
       "      <th>Paracetamol</th>\n",
       "      <td>25145.410639</td>\n",
       "      <td>24995.508981</td>\n",
       "      <td>1962</td>\n",
       "    </tr>\n",
       "    <tr>\n",
       "      <th>Penicillin</th>\n",
       "      <td>25086.518686</td>\n",
       "      <td>24893.814096</td>\n",
       "      <td>2079</td>\n",
       "    </tr>\n",
       "  </tbody>\n",
       "</table>\n",
       "</div>"
      ],
      "text/plain": [
       "                     mean        median  count\n",
       "Medication                                    \n",
       "Lipitor      26126.263179  26153.389223   2015\n",
       "Aspirin      25795.641295  25541.652751   1968\n",
       "Ibuprofen    25439.097865  25081.284280   1976\n",
       "Paracetamol  25145.410639  24995.508981   1962\n",
       "Penicillin   25086.518686  24893.814096   2079"
      ]
     },
     "execution_count": 33,
     "metadata": {},
     "output_type": "execute_result"
    }
   ],
   "source": [
    "data.groupby('Medication')['Billing Amount'].agg(['mean','median','count']).sort_values('mean', ascending=False)"
   ]
  },
  {
   "cell_type": "markdown",
   "id": "4156f8c7-38c5-4b08-af84-5f6ace9a26ec",
   "metadata": {},
   "source": [
    "### 3 Feature engineering"
   ]
  },
  {
   "cell_type": "code",
   "execution_count": 34,
   "id": "e0a6b3da-fbae-4ddd-9dcc-a5f26039d661",
   "metadata": {
    "tags": []
   },
   "outputs": [
    {
     "data": {
      "text/plain": [
       "Index(['Name', 'Age', 'Gender', 'Blood Type', 'Medical Condition',\n",
       "       'Date of Admission', 'Doctor', 'Hospital', 'Insurance Provider',\n",
       "       'Billing Amount', 'Room Number', 'Admission Type', 'Discharge Date',\n",
       "       'Medication', 'Test Results', 'Age Group', 'Stay Days',\n",
       "       'Stay Days Group'],\n",
       "      dtype='object')"
      ]
     },
     "execution_count": 34,
     "metadata": {},
     "output_type": "execute_result"
    }
   ],
   "source": [
    "data.columns"
   ]
  },
  {
   "cell_type": "markdown",
   "id": "9a336f9a-f25c-40fe-a6bc-0e93f2883e17",
   "metadata": {},
   "source": [
    "Age\tGender\tBlood Type\tMedical Condition\tInsurance Provider\tBilling Amount\tAdmission Type\tMedication"
   ]
  },
  {
   "cell_type": "code",
   "execution_count": 35,
   "id": "723825eb-e688-479a-8b22-f64f6c4e920d",
   "metadata": {
    "tags": []
   },
   "outputs": [],
   "source": [
    "# dataset = data.drop(columns=['Name','Age','Date of Admission','Doctor','Hospital','Room Number','Discharge Date','Stay Days'])\n",
    "dataset = data.drop(columns=['Name','Date of Admission','Doctor','Hospital','Room Number','Discharge Date','Age Group', 'Stay Days Group'])"
   ]
  },
  {
   "cell_type": "code",
   "execution_count": 36,
   "id": "1bf8c703-abcc-46c0-b529-7a2fa2b71b88",
   "metadata": {
    "tags": []
   },
   "outputs": [
    {
     "data": {
      "text/html": [
       "<div>\n",
       "<style scoped>\n",
       "    .dataframe tbody tr th:only-of-type {\n",
       "        vertical-align: middle;\n",
       "    }\n",
       "\n",
       "    .dataframe tbody tr th {\n",
       "        vertical-align: top;\n",
       "    }\n",
       "\n",
       "    .dataframe thead th {\n",
       "        text-align: right;\n",
       "    }\n",
       "</style>\n",
       "<table border=\"1\" class=\"dataframe\">\n",
       "  <thead>\n",
       "    <tr style=\"text-align: right;\">\n",
       "      <th></th>\n",
       "      <th>Age</th>\n",
       "      <th>Gender</th>\n",
       "      <th>Blood Type</th>\n",
       "      <th>Medical Condition</th>\n",
       "      <th>Insurance Provider</th>\n",
       "      <th>Billing Amount</th>\n",
       "      <th>Admission Type</th>\n",
       "      <th>Medication</th>\n",
       "      <th>Test Results</th>\n",
       "      <th>Stay Days</th>\n",
       "    </tr>\n",
       "  </thead>\n",
       "  <tbody>\n",
       "    <tr>\n",
       "      <th>0</th>\n",
       "      <td>81</td>\n",
       "      <td>Female</td>\n",
       "      <td>O-</td>\n",
       "      <td>Diabetes</td>\n",
       "      <td>Medicare</td>\n",
       "      <td>37490.983364</td>\n",
       "      <td>Elective</td>\n",
       "      <td>Aspirin</td>\n",
       "      <td>Inconclusive</td>\n",
       "      <td>14</td>\n",
       "    </tr>\n",
       "    <tr>\n",
       "      <th>1</th>\n",
       "      <td>35</td>\n",
       "      <td>Male</td>\n",
       "      <td>O+</td>\n",
       "      <td>Asthma</td>\n",
       "      <td>UnitedHealthcare</td>\n",
       "      <td>47304.064845</td>\n",
       "      <td>Emergency</td>\n",
       "      <td>Lipitor</td>\n",
       "      <td>Normal</td>\n",
       "      <td>14</td>\n",
       "    </tr>\n",
       "    <tr>\n",
       "      <th>2</th>\n",
       "      <td>61</td>\n",
       "      <td>Male</td>\n",
       "      <td>B-</td>\n",
       "      <td>Obesity</td>\n",
       "      <td>Medicare</td>\n",
       "      <td>36874.896997</td>\n",
       "      <td>Emergency</td>\n",
       "      <td>Lipitor</td>\n",
       "      <td>Normal</td>\n",
       "      <td>30</td>\n",
       "    </tr>\n",
       "    <tr>\n",
       "      <th>3</th>\n",
       "      <td>49</td>\n",
       "      <td>Male</td>\n",
       "      <td>B-</td>\n",
       "      <td>Asthma</td>\n",
       "      <td>Medicare</td>\n",
       "      <td>23303.322092</td>\n",
       "      <td>Urgent</td>\n",
       "      <td>Penicillin</td>\n",
       "      <td>Abnormal</td>\n",
       "      <td>1</td>\n",
       "    </tr>\n",
       "    <tr>\n",
       "      <th>4</th>\n",
       "      <td>51</td>\n",
       "      <td>Male</td>\n",
       "      <td>O-</td>\n",
       "      <td>Arthritis</td>\n",
       "      <td>UnitedHealthcare</td>\n",
       "      <td>18086.344184</td>\n",
       "      <td>Urgent</td>\n",
       "      <td>Paracetamol</td>\n",
       "      <td>Normal</td>\n",
       "      <td>24</td>\n",
       "    </tr>\n",
       "  </tbody>\n",
       "</table>\n",
       "</div>"
      ],
      "text/plain": [
       "   Age  Gender Blood Type Medical Condition Insurance Provider  \\\n",
       "0   81  Female         O-          Diabetes           Medicare   \n",
       "1   35    Male         O+            Asthma   UnitedHealthcare   \n",
       "2   61    Male         B-           Obesity           Medicare   \n",
       "3   49    Male         B-            Asthma           Medicare   \n",
       "4   51    Male         O-         Arthritis   UnitedHealthcare   \n",
       "\n",
       "   Billing Amount Admission Type   Medication  Test Results  Stay Days  \n",
       "0    37490.983364       Elective      Aspirin  Inconclusive         14  \n",
       "1    47304.064845      Emergency      Lipitor        Normal         14  \n",
       "2    36874.896997      Emergency      Lipitor        Normal         30  \n",
       "3    23303.322092         Urgent   Penicillin      Abnormal          1  \n",
       "4    18086.344184         Urgent  Paracetamol        Normal         24  "
      ]
     },
     "execution_count": 36,
     "metadata": {},
     "output_type": "execute_result"
    }
   ],
   "source": [
    "dataset.head()"
   ]
  },
  {
   "cell_type": "markdown",
   "id": "9bfe53a3-b83f-4bb5-8ca2-d8c7c26eb1a0",
   "metadata": {},
   "source": [
    "#### Here we define our task, which is Test Result multi-class prediction"
   ]
  },
  {
   "cell_type": "code",
   "execution_count": 37,
   "id": "9d93f3e2-fd3a-414f-bdef-e9ab2b0c3f17",
   "metadata": {
    "tags": []
   },
   "outputs": [],
   "source": [
    "#Define the label\n",
    "label = 'Test Results'\n",
    "\n",
    "#Numerical features\n",
    "num_fea = ['Age','Stay Days', 'Billing Amount']\n",
    "\n",
    "#Category features\n",
    "cat_fea = [f for f in dataset.columns if f not in num_fea and f != label]"
   ]
  },
  {
   "cell_type": "code",
   "execution_count": 38,
   "id": "59726ea6-efc1-4d91-ab3d-6cb9f010b9ad",
   "metadata": {
    "tags": []
   },
   "outputs": [
    {
     "name": "stdout",
     "output_type": "stream",
     "text": [
      "['Age', 'Stay Days', 'Billing Amount']\n",
      "['Gender', 'Blood Type', 'Medical Condition', 'Insurance Provider', 'Admission Type', 'Medication']\n"
     ]
    }
   ],
   "source": [
    "print(num_fea)\n",
    "print(cat_fea)"
   ]
  },
  {
   "cell_type": "code",
   "execution_count": 43,
   "id": "9d19f400-a505-489d-825e-57d6371768a3",
   "metadata": {
    "tags": []
   },
   "outputs": [],
   "source": [
    "from sklearn.preprocessing import LabelEncoder, StandardScaler\n",
    "\n",
    "def encode_categorical_features(df, categorical_cols, numerical_cols):\n",
    "    \n",
    "    df_encoded = df.copy()\n",
    "    categorical_feature = pd.DataFrame()\n",
    "    encoders = {}\n",
    "    scaler = StandardScaler()\n",
    "\n",
    "    for col in categorical_cols:\n",
    "        le = LabelEncoder()\n",
    "        categorical_feature[col] = le.fit_transform(df[col].astype(str))  # ensure the string\n",
    "        encoders[col] = le\n",
    "    \n",
    "    numerical_feature = pd.DataFrame(scaler.fit_transform(df[numerical_cols]), \n",
    "                              columns=numerical_cols)\n",
    "    return encoders,scaler, categorical_feature, numerical_feature "
   ]
  },
  {
   "cell_type": "code",
   "execution_count": 44,
   "id": "78910c87-e17b-44fc-9703-5725d0957ea5",
   "metadata": {
    "tags": []
   },
   "outputs": [],
   "source": [
    "cate_encoders, num_encoder, cate_encoded, num_encoded = encode_categorical_features(dataset,cat_fea, num_fea)"
   ]
  },
  {
   "cell_type": "code",
   "execution_count": 45,
   "id": "22f67347-ecff-4fd5-a27d-9cd3201382c1",
   "metadata": {
    "tags": []
   },
   "outputs": [
    {
     "data": {
      "text/plain": [
       "{'Gender': LabelEncoder(),\n",
       " 'Blood Type': LabelEncoder(),\n",
       " 'Medical Condition': LabelEncoder(),\n",
       " 'Insurance Provider': LabelEncoder(),\n",
       " 'Admission Type': LabelEncoder(),\n",
       " 'Medication': LabelEncoder()}"
      ]
     },
     "execution_count": 45,
     "metadata": {},
     "output_type": "execute_result"
    }
   ],
   "source": [
    "cate_encoders"
   ]
  },
  {
   "cell_type": "code",
   "execution_count": 46,
   "id": "e1392d1d-54fa-4183-a68f-03dfe09aa346",
   "metadata": {
    "tags": []
   },
   "outputs": [
    {
     "data": {
      "text/plain": [
       "StandardScaler()"
      ]
     },
     "execution_count": 46,
     "metadata": {},
     "output_type": "execute_result"
    }
   ],
   "source": [
    "num_encoder"
   ]
  },
  {
   "cell_type": "code",
   "execution_count": 47,
   "id": "a5af5b12-afc9-4266-b6f4-54a6efc29b2f",
   "metadata": {
    "tags": []
   },
   "outputs": [
    {
     "data": {
      "text/html": [
       "<div>\n",
       "<style scoped>\n",
       "    .dataframe tbody tr th:only-of-type {\n",
       "        vertical-align: middle;\n",
       "    }\n",
       "\n",
       "    .dataframe tbody tr th {\n",
       "        vertical-align: top;\n",
       "    }\n",
       "\n",
       "    .dataframe thead th {\n",
       "        text-align: right;\n",
       "    }\n",
       "</style>\n",
       "<table border=\"1\" class=\"dataframe\">\n",
       "  <thead>\n",
       "    <tr style=\"text-align: right;\">\n",
       "      <th></th>\n",
       "      <th>Gender</th>\n",
       "      <th>Blood Type</th>\n",
       "      <th>Medical Condition</th>\n",
       "      <th>Insurance Provider</th>\n",
       "      <th>Admission Type</th>\n",
       "      <th>Medication</th>\n",
       "    </tr>\n",
       "  </thead>\n",
       "  <tbody>\n",
       "    <tr>\n",
       "      <th>0</th>\n",
       "      <td>0</td>\n",
       "      <td>7</td>\n",
       "      <td>3</td>\n",
       "      <td>3</td>\n",
       "      <td>0</td>\n",
       "      <td>0</td>\n",
       "    </tr>\n",
       "    <tr>\n",
       "      <th>1</th>\n",
       "      <td>1</td>\n",
       "      <td>6</td>\n",
       "      <td>1</td>\n",
       "      <td>4</td>\n",
       "      <td>1</td>\n",
       "      <td>2</td>\n",
       "    </tr>\n",
       "    <tr>\n",
       "      <th>2</th>\n",
       "      <td>1</td>\n",
       "      <td>5</td>\n",
       "      <td>5</td>\n",
       "      <td>3</td>\n",
       "      <td>1</td>\n",
       "      <td>2</td>\n",
       "    </tr>\n",
       "    <tr>\n",
       "      <th>3</th>\n",
       "      <td>1</td>\n",
       "      <td>5</td>\n",
       "      <td>1</td>\n",
       "      <td>3</td>\n",
       "      <td>2</td>\n",
       "      <td>4</td>\n",
       "    </tr>\n",
       "    <tr>\n",
       "      <th>4</th>\n",
       "      <td>1</td>\n",
       "      <td>7</td>\n",
       "      <td>0</td>\n",
       "      <td>4</td>\n",
       "      <td>2</td>\n",
       "      <td>3</td>\n",
       "    </tr>\n",
       "  </tbody>\n",
       "</table>\n",
       "</div>"
      ],
      "text/plain": [
       "   Gender  Blood Type  Medical Condition  Insurance Provider  Admission Type  \\\n",
       "0       0           7                  3                   3               0   \n",
       "1       1           6                  1                   4               1   \n",
       "2       1           5                  5                   3               1   \n",
       "3       1           5                  1                   3               2   \n",
       "4       1           7                  0                   4               2   \n",
       "\n",
       "   Medication  \n",
       "0           0  \n",
       "1           2  \n",
       "2           2  \n",
       "3           4  \n",
       "4           3  "
      ]
     },
     "execution_count": 47,
     "metadata": {},
     "output_type": "execute_result"
    }
   ],
   "source": [
    "cate_encoded.head()"
   ]
  },
  {
   "cell_type": "code",
   "execution_count": 48,
   "id": "0595eacb-6759-4d02-8432-406ee8fe34d5",
   "metadata": {
    "tags": []
   },
   "outputs": [
    {
     "data": {
      "text/html": [
       "<div>\n",
       "<style scoped>\n",
       "    .dataframe tbody tr th:only-of-type {\n",
       "        vertical-align: middle;\n",
       "    }\n",
       "\n",
       "    .dataframe tbody tr th {\n",
       "        vertical-align: top;\n",
       "    }\n",
       "\n",
       "    .dataframe thead th {\n",
       "        text-align: right;\n",
       "    }\n",
       "</style>\n",
       "<table border=\"1\" class=\"dataframe\">\n",
       "  <thead>\n",
       "    <tr style=\"text-align: right;\">\n",
       "      <th></th>\n",
       "      <th>Age</th>\n",
       "      <th>Stay Days</th>\n",
       "      <th>Billing Amount</th>\n",
       "    </tr>\n",
       "  </thead>\n",
       "  <tbody>\n",
       "    <tr>\n",
       "      <th>0</th>\n",
       "      <td>1.508465</td>\n",
       "      <td>-0.181360</td>\n",
       "      <td>0.851249</td>\n",
       "    </tr>\n",
       "    <tr>\n",
       "      <th>1</th>\n",
       "      <td>-0.839912</td>\n",
       "      <td>-0.181360</td>\n",
       "      <td>1.548866</td>\n",
       "    </tr>\n",
       "    <tr>\n",
       "      <th>2</th>\n",
       "      <td>0.487431</td>\n",
       "      <td>1.676598</td>\n",
       "      <td>0.807452</td>\n",
       "    </tr>\n",
       "    <tr>\n",
       "      <th>3</th>\n",
       "      <td>-0.125189</td>\n",
       "      <td>-1.690950</td>\n",
       "      <td>-0.157358</td>\n",
       "    </tr>\n",
       "    <tr>\n",
       "      <th>4</th>\n",
       "      <td>-0.023086</td>\n",
       "      <td>0.979864</td>\n",
       "      <td>-0.528235</td>\n",
       "    </tr>\n",
       "  </tbody>\n",
       "</table>\n",
       "</div>"
      ],
      "text/plain": [
       "        Age  Stay Days  Billing Amount\n",
       "0  1.508465  -0.181360        0.851249\n",
       "1 -0.839912  -0.181360        1.548866\n",
       "2  0.487431   1.676598        0.807452\n",
       "3 -0.125189  -1.690950       -0.157358\n",
       "4 -0.023086   0.979864       -0.528235"
      ]
     },
     "execution_count": 48,
     "metadata": {},
     "output_type": "execute_result"
    }
   ],
   "source": [
    "num_encoded.head()"
   ]
  },
  {
   "cell_type": "code",
   "execution_count": 49,
   "id": "531e1d2f-8e7c-4879-932f-35aba60896b1",
   "metadata": {},
   "outputs": [],
   "source": [
    "#Concat features\n",
    "label_encoder = LabelEncoder()\n",
    "X = pd.concat([cate_encoded, num_encoded], axis = 1)\n",
    "y = label_encoder.fit_transform(dataset[label])"
   ]
  },
  {
   "cell_type": "code",
   "execution_count": 50,
   "id": "0788e972-f655-4164-90a9-3b4827a58770",
   "metadata": {
    "tags": []
   },
   "outputs": [
    {
     "data": {
      "text/plain": [
       "array(['Abnormal', 'Inconclusive', 'Normal'], dtype=object)"
      ]
     },
     "execution_count": 50,
     "metadata": {},
     "output_type": "execute_result"
    }
   ],
   "source": [
    "label_encoder.classes_"
   ]
  },
  {
   "cell_type": "markdown",
   "id": "3a9ab5c5-f3da-4985-ab08-8a4f75dcec24",
   "metadata": {},
   "source": [
    "我们发现特征之间的关系非常不明朗，特征与特征之间相互独立，这会导致后续的模型训练和预测增加困难"
   ]
  },
  {
   "cell_type": "code",
   "execution_count": 129,
   "id": "3240b748-1d31-436e-a02a-e2454f3744b1",
   "metadata": {
    "tags": []
   },
   "outputs": [
    {
     "data": {
      "text/plain": [
       "<AxesSubplot:>"
      ]
     },
     "execution_count": 129,
     "metadata": {},
     "output_type": "execute_result"
    },
    {
     "data": {
      "image/png": "[encoded data removed]",
      "text/plain": [
       "<Figure size 720x432 with 2 Axes>"
      ]
     },
     "metadata": {},
     "output_type": "display_data"
    }
   ],
   "source": [
    "#Plot heatmap of feature correlation\n",
    "plt.figure(figsize=(10,6))\n",
    "corr_df = pd.concat([cat_encoded, num_scaled, pd.DataFrame(y, columns=[\"Test Results\"])], axis=1)\n",
    "sns.heatmap(corr_df.corr())\n",
    "plt.savefig(\"img/Billing Amount of Different Diseases.png\")"
   ]
  },
  {
   "cell_type": "code",
   "execution_count": 130,
   "id": "125ea950-b731-433e-b1bf-633a23914f37",
   "metadata": {},
   "outputs": [
    {
     "data": {
      "text/plain": [
       "((10000, 9), (10000,))"
      ]
     },
     "execution_count": 130,
     "metadata": {},
     "output_type": "execute_result"
    }
   ],
   "source": [
    "X.shape, y.shape"
   ]
  },
  {
   "cell_type": "code",
   "execution_count": 131,
   "id": "1c767f41-5b87-4678-a86b-b43193a262ad",
   "metadata": {
    "tags": []
   },
   "outputs": [
    {
     "data": {
      "text/plain": [
       "array([1, 2, 2, ..., 2, 2, 0])"
      ]
     },
     "execution_count": 131,
     "metadata": {},
     "output_type": "execute_result"
    }
   ],
   "source": [
    "y"
   ]
  },
  {
   "cell_type": "code",
   "execution_count": 132,
   "id": "aa8e304e-e9ef-427a-a973-18806d778600",
   "metadata": {},
   "outputs": [
    {
     "data": {
      "text/html": [
       "<div>\n",
       "<style scoped>\n",
       "    .dataframe tbody tr th:only-of-type {\n",
       "        vertical-align: middle;\n",
       "    }\n",
       "\n",
       "    .dataframe tbody tr th {\n",
       "        vertical-align: top;\n",
       "    }\n",
       "\n",
       "    .dataframe thead th {\n",
       "        text-align: right;\n",
       "    }\n",
       "</style>\n",
       "<table border=\"1\" class=\"dataframe\">\n",
       "  <thead>\n",
       "    <tr style=\"text-align: right;\">\n",
       "      <th></th>\n",
       "      <th>Gender</th>\n",
       "      <th>Blood Type</th>\n",
       "      <th>Medical Condition</th>\n",
       "      <th>Insurance Provider</th>\n",
       "      <th>Admission Type</th>\n",
       "      <th>Medication</th>\n",
       "      <th>Age</th>\n",
       "      <th>Stay Days</th>\n",
       "      <th>Billing Amount</th>\n",
       "    </tr>\n",
       "  </thead>\n",
       "  <tbody>\n",
       "    <tr>\n",
       "      <th>0</th>\n",
       "      <td>0</td>\n",
       "      <td>7</td>\n",
       "      <td>3</td>\n",
       "      <td>3</td>\n",
       "      <td>0</td>\n",
       "      <td>0</td>\n",
       "      <td>1.508465</td>\n",
       "      <td>-0.181360</td>\n",
       "      <td>0.851249</td>\n",
       "    </tr>\n",
       "    <tr>\n",
       "      <th>1</th>\n",
       "      <td>1</td>\n",
       "      <td>6</td>\n",
       "      <td>1</td>\n",
       "      <td>4</td>\n",
       "      <td>1</td>\n",
       "      <td>2</td>\n",
       "      <td>-0.839912</td>\n",
       "      <td>-0.181360</td>\n",
       "      <td>1.548866</td>\n",
       "    </tr>\n",
       "    <tr>\n",
       "      <th>2</th>\n",
       "      <td>1</td>\n",
       "      <td>5</td>\n",
       "      <td>5</td>\n",
       "      <td>3</td>\n",
       "      <td>1</td>\n",
       "      <td>2</td>\n",
       "      <td>0.487431</td>\n",
       "      <td>1.676598</td>\n",
       "      <td>0.807452</td>\n",
       "    </tr>\n",
       "    <tr>\n",
       "      <th>3</th>\n",
       "      <td>1</td>\n",
       "      <td>5</td>\n",
       "      <td>1</td>\n",
       "      <td>3</td>\n",
       "      <td>2</td>\n",
       "      <td>4</td>\n",
       "      <td>-0.125189</td>\n",
       "      <td>-1.690950</td>\n",
       "      <td>-0.157358</td>\n",
       "    </tr>\n",
       "    <tr>\n",
       "      <th>4</th>\n",
       "      <td>1</td>\n",
       "      <td>7</td>\n",
       "      <td>0</td>\n",
       "      <td>4</td>\n",
       "      <td>2</td>\n",
       "      <td>3</td>\n",
       "      <td>-0.023086</td>\n",
       "      <td>0.979864</td>\n",
       "      <td>-0.528235</td>\n",
       "    </tr>\n",
       "    <tr>\n",
       "      <th>...</th>\n",
       "      <td>...</td>\n",
       "      <td>...</td>\n",
       "      <td>...</td>\n",
       "      <td>...</td>\n",
       "      <td>...</td>\n",
       "      <td>...</td>\n",
       "      <td>...</td>\n",
       "      <td>...</td>\n",
       "      <td>...</td>\n",
       "    </tr>\n",
       "    <tr>\n",
       "      <th>9995</th>\n",
       "      <td>1</td>\n",
       "      <td>0</td>\n",
       "      <td>5</td>\n",
       "      <td>4</td>\n",
       "      <td>0</td>\n",
       "      <td>1</td>\n",
       "      <td>1.610568</td>\n",
       "      <td>-1.342583</td>\n",
       "      <td>1.001667</td>\n",
       "    </tr>\n",
       "    <tr>\n",
       "      <th>9996</th>\n",
       "      <td>0</td>\n",
       "      <td>2</td>\n",
       "      <td>0</td>\n",
       "      <td>1</td>\n",
       "      <td>1</td>\n",
       "      <td>1</td>\n",
       "      <td>-0.227292</td>\n",
       "      <td>0.863741</td>\n",
       "      <td>-1.387763</td>\n",
       "    </tr>\n",
       "    <tr>\n",
       "      <th>9997</th>\n",
       "      <td>1</td>\n",
       "      <td>5</td>\n",
       "      <td>0</td>\n",
       "      <td>1</td>\n",
       "      <td>0</td>\n",
       "      <td>1</td>\n",
       "      <td>0.130069</td>\n",
       "      <td>-0.181360</td>\n",
       "      <td>1.709184</td>\n",
       "    </tr>\n",
       "    <tr>\n",
       "      <th>9998</th>\n",
       "      <td>1</td>\n",
       "      <td>0</td>\n",
       "      <td>0</td>\n",
       "      <td>4</td>\n",
       "      <td>2</td>\n",
       "      <td>4</td>\n",
       "      <td>1.661620</td>\n",
       "      <td>0.515374</td>\n",
       "      <td>-0.019938</td>\n",
       "    </tr>\n",
       "    <tr>\n",
       "      <th>9999</th>\n",
       "      <td>1</td>\n",
       "      <td>5</td>\n",
       "      <td>0</td>\n",
       "      <td>0</td>\n",
       "      <td>1</td>\n",
       "      <td>4</td>\n",
       "      <td>-1.605688</td>\n",
       "      <td>0.979864</td>\n",
       "      <td>0.832267</td>\n",
       "    </tr>\n",
       "  </tbody>\n",
       "</table>\n",
       "<p>10000 rows × 9 columns</p>\n",
       "</div>"
      ],
      "text/plain": [
       "      Gender  Blood Type  Medical Condition  Insurance Provider  \\\n",
       "0          0           7                  3                   3   \n",
       "1          1           6                  1                   4   \n",
       "2          1           5                  5                   3   \n",
       "3          1           5                  1                   3   \n",
       "4          1           7                  0                   4   \n",
       "...      ...         ...                ...                 ...   \n",
       "9995       1           0                  5                   4   \n",
       "9996       0           2                  0                   1   \n",
       "9997       1           5                  0                   1   \n",
       "9998       1           0                  0                   4   \n",
       "9999       1           5                  0                   0   \n",
       "\n",
       "      Admission Type  Medication       Age  Stay Days  Billing Amount  \n",
       "0                  0           0  1.508465  -0.181360        0.851249  \n",
       "1                  1           2 -0.839912  -0.181360        1.548866  \n",
       "2                  1           2  0.487431   1.676598        0.807452  \n",
       "3                  2           4 -0.125189  -1.690950       -0.157358  \n",
       "4                  2           3 -0.023086   0.979864       -0.528235  \n",
       "...              ...         ...       ...        ...             ...  \n",
       "9995               0           1  1.610568  -1.342583        1.001667  \n",
       "9996               1           1 -0.227292   0.863741       -1.387763  \n",
       "9997               0           1  0.130069  -0.181360        1.709184  \n",
       "9998               2           4  1.661620   0.515374       -0.019938  \n",
       "9999               1           4 -1.605688   0.979864        0.832267  \n",
       "\n",
       "[10000 rows x 9 columns]"
      ]
     },
     "execution_count": 132,
     "metadata": {},
     "output_type": "execute_result"
    }
   ],
   "source": [
    "X"
   ]
  },
  {
   "cell_type": "markdown",
   "id": "935e522c-61a5-4d3f-b947-109cfbb7f6ac",
   "metadata": {},
   "source": [
    "### 4 Application "
   ]
  },
  {
   "cell_type": "markdown",
   "id": "740829e4-0b08-486c-b5c3-9b7a8120a3c9",
   "metadata": {},
   "source": [
    "### 4.1 Feature selection / Dimension reduction via LightGBM"
   ]
  },
  {
   "cell_type": "code",
   "execution_count": 133,
   "id": "c24d8269-6258-4e83-a641-89f37fce3a21",
   "metadata": {
    "tags": []
   },
   "outputs": [],
   "source": [
    "#Split training set and validation set\n",
    "from sklearn.model_selection import train_test_split\n",
    "X_train, X_test, y_train, y_test = train_test_split(X, y, test_size = 0.2, random_state=42)"
   ]
  },
  {
   "cell_type": "code",
   "execution_count": 134,
   "id": "1c0ef1b0-0f7d-4e69-af5f-7b17f2a81f2a",
   "metadata": {},
   "outputs": [
    {
     "name": "stdout",
     "output_type": "stream",
     "text": [
      "[LightGBM] [Warning] Found whitespace in feature_names, replace with underlines\n",
      "[LightGBM] [Info] Auto-choosing row-wise multi-threading, the overhead of testing was 0.000093 seconds.\n",
      "You can set `force_row_wise=true` to remove the overhead.\n",
      "And if memory is not enough, you can set `force_col_wise=true`.\n",
      "[LightGBM] [Info] Total Bins 384\n",
      "[LightGBM] [Info] Number of data points in the train set: 8000, number of used features: 9\n",
      "[LightGBM] [Info] Start training from score -1.067841\n",
      "[LightGBM] [Info] Start training from score -1.108284\n",
      "[LightGBM] [Info] Start training from score -1.120475\n"
     ]
    }
   ],
   "source": [
    "#Use lightgbm to select features\n",
    "from lightgbm import LGBMClassifier\n",
    "lightgbm = LGBMClassifier()\n",
    "lightgbm.fit(X_train,y_train)\n",
    "features = X.columns\n",
    "feature_importances = lightgbm.feature_importances_"
   ]
  },
  {
   "cell_type": "markdown",
   "id": "acfe48cc-332f-4ec4-93dd-4882b6a244d3",
   "metadata": {},
   "source": [
    "### Select the importance features"
   ]
  },
  {
   "cell_type": "code",
   "execution_count": 242,
   "id": "4ad2fb0a-ecf4-4f89-bfd7-eb90215ec849",
   "metadata": {
    "tags": []
   },
   "outputs": [
    {
     "data": {
      "image/png": "[encoded data removed]",
      "text/plain": [
       "<Figure size 576x432 with 1 Axes>"
      ]
     },
     "metadata": {},
     "output_type": "display_data"
    }
   ],
   "source": [
    "#Save in a dataframe\n",
    "fi_df = pd.DataFrame({\n",
    "    \"Feature\": features,\n",
    "    \"Importance\": feature_importances\n",
    "}).sort_values(by=\"Importance\", ascending=False)\n",
    "\n",
    "#Plot important features\n",
    "fi_df.plot(kind=\"barh\", x=\"Feature\", y=\"Importance\", figsize=(8, 6))\n",
    "plt.title(\"LightGBM Importance of Features\")\n",
    "plt.gca().invert_yaxis()\n",
    "plt.show()"
   ]
  },
  {
   "cell_type": "code",
   "execution_count": 144,
   "id": "5e40e198-ef44-4d2e-b8ae-e9216ee5fc23",
   "metadata": {
    "tags": []
   },
   "outputs": [],
   "source": [
    "#Dimensional reduction to top 5 features\n",
    "dr_X = X[['Billing Amount', 'Age', 'Stay Days', 'Blood Type', 'Medical Condition']]"
   ]
  },
  {
   "cell_type": "code",
   "execution_count": 145,
   "id": "e9ce8ee1-b50d-46ca-9fc3-7068be4df114",
   "metadata": {
    "tags": []
   },
   "outputs": [
    {
     "data": {
      "text/html": [
       "<div>\n",
       "<style scoped>\n",
       "    .dataframe tbody tr th:only-of-type {\n",
       "        vertical-align: middle;\n",
       "    }\n",
       "\n",
       "    .dataframe tbody tr th {\n",
       "        vertical-align: top;\n",
       "    }\n",
       "\n",
       "    .dataframe thead th {\n",
       "        text-align: right;\n",
       "    }\n",
       "</style>\n",
       "<table border=\"1\" class=\"dataframe\">\n",
       "  <thead>\n",
       "    <tr style=\"text-align: right;\">\n",
       "      <th></th>\n",
       "      <th>Billing Amount</th>\n",
       "      <th>Age</th>\n",
       "      <th>Stay Days</th>\n",
       "      <th>Blood Type</th>\n",
       "      <th>Medical Condition</th>\n",
       "    </tr>\n",
       "  </thead>\n",
       "  <tbody>\n",
       "    <tr>\n",
       "      <th>0</th>\n",
       "      <td>0.851249</td>\n",
       "      <td>1.508465</td>\n",
       "      <td>-0.181360</td>\n",
       "      <td>7</td>\n",
       "      <td>3</td>\n",
       "    </tr>\n",
       "    <tr>\n",
       "      <th>1</th>\n",
       "      <td>1.548866</td>\n",
       "      <td>-0.839912</td>\n",
       "      <td>-0.181360</td>\n",
       "      <td>6</td>\n",
       "      <td>1</td>\n",
       "    </tr>\n",
       "    <tr>\n",
       "      <th>2</th>\n",
       "      <td>0.807452</td>\n",
       "      <td>0.487431</td>\n",
       "      <td>1.676598</td>\n",
       "      <td>5</td>\n",
       "      <td>5</td>\n",
       "    </tr>\n",
       "    <tr>\n",
       "      <th>3</th>\n",
       "      <td>-0.157358</td>\n",
       "      <td>-0.125189</td>\n",
       "      <td>-1.690950</td>\n",
       "      <td>5</td>\n",
       "      <td>1</td>\n",
       "    </tr>\n",
       "    <tr>\n",
       "      <th>4</th>\n",
       "      <td>-0.528235</td>\n",
       "      <td>-0.023086</td>\n",
       "      <td>0.979864</td>\n",
       "      <td>7</td>\n",
       "      <td>0</td>\n",
       "    </tr>\n",
       "  </tbody>\n",
       "</table>\n",
       "</div>"
      ],
      "text/plain": [
       "   Billing Amount       Age  Stay Days  Blood Type  Medical Condition\n",
       "0        0.851249  1.508465  -0.181360           7                  3\n",
       "1        1.548866 -0.839912  -0.181360           6                  1\n",
       "2        0.807452  0.487431   1.676598           5                  5\n",
       "3       -0.157358 -0.125189  -1.690950           5                  1\n",
       "4       -0.528235 -0.023086   0.979864           7                  0"
      ]
     },
     "execution_count": 145,
     "metadata": {},
     "output_type": "execute_result"
    }
   ],
   "source": [
    "dr_X.head()"
   ]
  },
  {
   "cell_type": "code",
   "execution_count": 198,
   "id": "8caed66f-6097-4141-92f9-0def7a8d5638",
   "metadata": {
    "tags": []
   },
   "outputs": [],
   "source": [
    "#New training data\n",
    "X_train, X_test, y_train, y_test = train_test_split(dr_X, y, test_size = 0.2, random_state=42)"
   ]
  },
  {
   "cell_type": "markdown",
   "id": "14061e1c-7912-4d83-a567-58ad9d3d8fd7",
   "metadata": {},
   "source": [
    "### 4.2 Model selection"
   ]
  },
  {
   "cell_type": "code",
   "execution_count": 199,
   "id": "7fbc898b-2f41-450e-8eaa-7b43412ae84e",
   "metadata": {
    "tags": []
   },
   "outputs": [],
   "source": [
    "from sklearn.linear_model import LogisticRegression\n",
    "from sklearn.neighbors import KNeighborsClassifier\n",
    "from sklearn.svm import SVC\n",
    "from sklearn.neural_network import MLPClassifier\n",
    "from sklearn.tree import DecisionTreeClassifier\n",
    "from sklearn.ensemble import RandomForestClassifier\n",
    "\n",
    "#model dict to storage different algorithm\n",
    "models = {\n",
    "    \"Logistic Regression\": LogisticRegression(max_iter=1000),\n",
    "    \"K-Nearest Neighbors\": KNeighborsClassifier(),\n",
    "    \"Support Vector Machine\": SVC(),\n",
    "    \"Neural Network\":MLPClassifier(),\n",
    "    \"Decision Tree\": DecisionTreeClassifier(),\n",
    "    \"Random Forest\": RandomForestClassifier()\n",
    "}"
   ]
  },
  {
   "cell_type": "code",
   "execution_count": 200,
   "id": "68df349d-e87d-4a35-955c-e90be6a9ce08",
   "metadata": {
    "tags": []
   },
   "outputs": [],
   "source": [
    "from sklearn.metrics import classification_report\n",
    "results = {}\n",
    "\n",
    "#train model\n",
    "for name, model in models.items():\n",
    "    model.fit(X_train, y_train)\n",
    "    y_pred = model.predict(X_test)\n",
    "    results[name] = classification_report(y_test, y_pred, target_names=le.classes_, output_dict=True)"
   ]
  },
  {
   "cell_type": "code",
   "execution_count": 201,
   "id": "4b270bb9-a814-425a-9410-5fad1cb3b695",
   "metadata": {
    "tags": []
   },
   "outputs": [],
   "source": [
    "# Save the f1-score and accuracy metrics into a dataframe\n",
    "f1_df = pd.DataFrame({name: pd.DataFrame(rep).T[\"f1-score\"]\n",
    "                      for name, rep in results.items()})\n",
    "accuracy_df = pd.DataFrame({name: rep[\"accuracy\"]\n",
    "                            for name, rep in results.items()}, index=[\"Accuracy\"]).T"
   ]
  },
  {
   "cell_type": "markdown",
   "id": "31f64f0f-0126-49a7-ab3a-9a69dcca411d",
   "metadata": {},
   "source": [
    "### Model Performance (Before Hyperparameter Tuning)\n",
    "\n",
    "The table above displays the classification performance of six machine learning models **prior to any hyperparameter tuning**.\n",
    "\n",
    "#### Key metrics included:\n",
    "- **Class-wise F1-score** (Abnormal, Inconclusive, Normal)\n",
    "- **Accuracy**: Overall classification correctness\n",
    "- **Macro average**: Unweighted average F1-score across all classes\n",
    "- **Weighted average**: Class-frequency-weighted average F1-score\n",
    "\n",
    "#### Observations:\n",
    "\n",
    "- **Support Vector Machine (SVM)** achieved the **highest F1-score for the 'Abnormal' class (0.4867)**, but struggled with other classes, especially 'Inconclusive' and 'Normal'.\n",
    "- **Logistic Regression** severely underperformed on the 'Normal' class (0.0120), suggesting it failed to separate that class at all.\n",
    "- **Decision Tree and Random Forest** demonstrated **balanced performance across all classes**, though without standout precision in any one area.\n",
    "- **K-Nearest Neighbors (KNN)** had **solid and more consistent macro/weighted averages (≈0.32)** compared to most models.\n",
    "- **Neural Network (MLPClassifier)** delivered a reasonably balanced outcome, showing potential for improvement with tuning."
   ]
  },
  {
   "cell_type": "code",
   "execution_count": 202,
   "id": "09b8fd31-5571-48f6-a524-4aff14cb47c6",
   "metadata": {
    "tags": []
   },
   "outputs": [
    {
     "data": {
      "text/html": [
       "<div>\n",
       "<style scoped>\n",
       "    .dataframe tbody tr th:only-of-type {\n",
       "        vertical-align: middle;\n",
       "    }\n",
       "\n",
       "    .dataframe tbody tr th {\n",
       "        vertical-align: top;\n",
       "    }\n",
       "\n",
       "    .dataframe thead th {\n",
       "        text-align: right;\n",
       "    }\n",
       "</style>\n",
       "<table border=\"1\" class=\"dataframe\">\n",
       "  <thead>\n",
       "    <tr style=\"text-align: right;\">\n",
       "      <th></th>\n",
       "      <th>Logistic Regression</th>\n",
       "      <th>K-Nearest Neighbors</th>\n",
       "      <th>Support Vector Machine</th>\n",
       "      <th>Neural Network</th>\n",
       "      <th>Decision Tree</th>\n",
       "      <th>Random Forest</th>\n",
       "    </tr>\n",
       "  </thead>\n",
       "  <tbody>\n",
       "    <tr>\n",
       "      <th>Abnormal</th>\n",
       "      <td>0.471396</td>\n",
       "      <td>0.406739</td>\n",
       "      <td>0.486679</td>\n",
       "      <td>0.392005</td>\n",
       "      <td>0.365976</td>\n",
       "      <td>0.353347</td>\n",
       "    </tr>\n",
       "    <tr>\n",
       "      <th>Inconclusive</th>\n",
       "      <td>0.250217</td>\n",
       "      <td>0.323185</td>\n",
       "      <td>0.182011</td>\n",
       "      <td>0.311278</td>\n",
       "      <td>0.349845</td>\n",
       "      <td>0.292607</td>\n",
       "    </tr>\n",
       "    <tr>\n",
       "      <th>Normal</th>\n",
       "      <td>0.012048</td>\n",
       "      <td>0.240303</td>\n",
       "      <td>0.122042</td>\n",
       "      <td>0.273458</td>\n",
       "      <td>0.325439</td>\n",
       "      <td>0.304897</td>\n",
       "    </tr>\n",
       "    <tr>\n",
       "      <th>accuracy</th>\n",
       "      <td>0.331500</td>\n",
       "      <td>0.336000</td>\n",
       "      <td>0.341500</td>\n",
       "      <td>0.332000</td>\n",
       "      <td>0.347500</td>\n",
       "      <td>0.318500</td>\n",
       "    </tr>\n",
       "    <tr>\n",
       "      <th>macro avg</th>\n",
       "      <td>0.244554</td>\n",
       "      <td>0.323409</td>\n",
       "      <td>0.263577</td>\n",
       "      <td>0.325581</td>\n",
       "      <td>0.347087</td>\n",
       "      <td>0.316950</td>\n",
       "    </tr>\n",
       "    <tr>\n",
       "      <th>weighted avg</th>\n",
       "      <td>0.249936</td>\n",
       "      <td>0.325411</td>\n",
       "      <td>0.269829</td>\n",
       "      <td>0.327332</td>\n",
       "      <td>0.347510</td>\n",
       "      <td>0.318092</td>\n",
       "    </tr>\n",
       "  </tbody>\n",
       "</table>\n",
       "</div>"
      ],
      "text/plain": [
       "              Logistic Regression  K-Nearest Neighbors  \\\n",
       "Abnormal                 0.471396             0.406739   \n",
       "Inconclusive             0.250217             0.323185   \n",
       "Normal                   0.012048             0.240303   \n",
       "accuracy                 0.331500             0.336000   \n",
       "macro avg                0.244554             0.323409   \n",
       "weighted avg             0.249936             0.325411   \n",
       "\n",
       "              Support Vector Machine  Neural Network  Decision Tree  \\\n",
       "Abnormal                    0.486679        0.392005       0.365976   \n",
       "Inconclusive                0.182011        0.311278       0.349845   \n",
       "Normal                      0.122042        0.273458       0.325439   \n",
       "accuracy                    0.341500        0.332000       0.347500   \n",
       "macro avg                   0.263577        0.325581       0.347087   \n",
       "weighted avg                0.269829        0.327332       0.347510   \n",
       "\n",
       "              Random Forest  \n",
       "Abnormal           0.353347  \n",
       "Inconclusive       0.292607  \n",
       "Normal             0.304897  \n",
       "accuracy           0.318500  \n",
       "macro avg          0.316950  \n",
       "weighted avg       0.318092  "
      ]
     },
     "execution_count": 202,
     "metadata": {},
     "output_type": "execute_result"
    }
   ],
   "source": [
    "f1_df"
   ]
  },
  {
   "cell_type": "code",
   "execution_count": 203,
   "id": "0e51b656-5116-4245-b382-96de5dba4cf2",
   "metadata": {
    "tags": []
   },
   "outputs": [
    {
     "data": {
      "text/html": [
       "<div>\n",
       "<style scoped>\n",
       "    .dataframe tbody tr th:only-of-type {\n",
       "        vertical-align: middle;\n",
       "    }\n",
       "\n",
       "    .dataframe tbody tr th {\n",
       "        vertical-align: top;\n",
       "    }\n",
       "\n",
       "    .dataframe thead th {\n",
       "        text-align: right;\n",
       "    }\n",
       "</style>\n",
       "<table border=\"1\" class=\"dataframe\">\n",
       "  <thead>\n",
       "    <tr style=\"text-align: right;\">\n",
       "      <th></th>\n",
       "      <th>Accuracy</th>\n",
       "    </tr>\n",
       "  </thead>\n",
       "  <tbody>\n",
       "    <tr>\n",
       "      <th>Decision Tree</th>\n",
       "      <td>0.3475</td>\n",
       "    </tr>\n",
       "    <tr>\n",
       "      <th>Support Vector Machine</th>\n",
       "      <td>0.3415</td>\n",
       "    </tr>\n",
       "    <tr>\n",
       "      <th>K-Nearest Neighbors</th>\n",
       "      <td>0.3360</td>\n",
       "    </tr>\n",
       "    <tr>\n",
       "      <th>Neural Network</th>\n",
       "      <td>0.3320</td>\n",
       "    </tr>\n",
       "    <tr>\n",
       "      <th>Logistic Regression</th>\n",
       "      <td>0.3315</td>\n",
       "    </tr>\n",
       "    <tr>\n",
       "      <th>Random Forest</th>\n",
       "      <td>0.3185</td>\n",
       "    </tr>\n",
       "  </tbody>\n",
       "</table>\n",
       "</div>"
      ],
      "text/plain": [
       "                        Accuracy\n",
       "Decision Tree             0.3475\n",
       "Support Vector Machine    0.3415\n",
       "K-Nearest Neighbors       0.3360\n",
       "Neural Network            0.3320\n",
       "Logistic Regression       0.3315\n",
       "Random Forest             0.3185"
      ]
     },
     "execution_count": 203,
     "metadata": {},
     "output_type": "execute_result"
    }
   ],
   "source": [
    "accuracy_df.sort_values('Accuracy', ascending=False)"
   ]
  },
  {
   "cell_type": "markdown",
   "id": "b72af04a-530c-4f64-bda4-cce7552f32cd",
   "metadata": {},
   "source": [
    "### 4.3 Hyperparameter optimization"
   ]
  },
  {
   "cell_type": "code",
   "execution_count": 243,
   "id": "fda16d8c-bd35-426f-89f0-f0804401fafb",
   "metadata": {
    "tags": []
   },
   "outputs": [],
   "source": [
    "param_grids = {\n",
    "    'Logistic Regression': {\n",
    "        'model': LogisticRegression(max_iter=1000),\n",
    "        'params': {\n",
    "            'C': [0.01, 0.1, 1, 10],\n",
    "            'penalty': ['l2'],\n",
    "            'solver': ['lbfgs']\n",
    "        }\n",
    "    },\n",
    "    'KNN': {\n",
    "        'model': KNeighborsClassifier(),\n",
    "        'params': {\n",
    "            'n_neighbors': [3, 5, 7],\n",
    "            'weights': ['uniform', 'distance']\n",
    "        }\n",
    "    },\n",
    "    'SVM': {\n",
    "        'model': SVC(),\n",
    "        'params': {\n",
    "            'C': [0.1, 1, 10],\n",
    "            'kernel': ['rbf', 'linear'],\n",
    "            'gamma': ['scale', 'auto']\n",
    "        }\n",
    "    },\n",
    "     'Decision Tree': {\n",
    "        'model': DecisionTreeClassifier(),\n",
    "        'params': {\n",
    "            'max_depth': [3, 5, 10, None],\n",
    "            'min_samples_split': [2, 5, 10],\n",
    "            'criterion': ['gini', 'entropy']\n",
    "        }\n",
    "    },\n",
    "    'Random Forest': {\n",
    "        'model': RandomForestClassifier(),\n",
    "        'params': {\n",
    "            'n_estimators': [50, 100],\n",
    "            'max_depth': [5, 10, None],\n",
    "            'min_samples_split': [2, 5],\n",
    "            'max_features': ['sqrt', 'log2']\n",
    "        }\n",
    "    },\n",
    "    'Neural Network': {\n",
    "        'model': MLPClassifier(max_iter=500),\n",
    "        'params': {\n",
    "            'hidden_layer_sizes': [(50,), (100,), (100, 50)],\n",
    "            'activation': ['relu', 'tanh'],\n",
    "            'alpha': [0.0001, 0.001],\n",
    "            'solver': ['adam']\n",
    "        }\n",
    "    }    \n",
    "}"
   ]
  },
  {
   "cell_type": "code",
   "execution_count": 206,
   "id": "e7a95da6-2d70-4d10-ba5f-d8571ce67abc",
   "metadata": {
    "tags": []
   },
   "outputs": [],
   "source": [
    "# Use gridsearch to fine the best hyperparameter\n",
    "from sklearn.model_selection import GridSearchCV\n",
    "\n",
    "params_results = []\n",
    "\n",
    "for name, mp in param_grids.items():\n",
    "    grid = GridSearchCV(mp['model'], mp['params'], cv=3, scoring='f1_macro', n_jobs=1)\n",
    "    grid.fit(X_train, y_train)\n",
    "    params_results.append({\n",
    "        'Model': name,\n",
    "        'Best Params': grid.best_params_,\n",
    "        'Best F1 Score': grid.best_score_\n",
    "    })"
   ]
  },
  {
   "cell_type": "code",
   "execution_count": 207,
   "id": "2fbd45c7-a5ce-4836-9a3f-5f41a2b6c559",
   "metadata": {
    "tags": []
   },
   "outputs": [
    {
     "data": {
      "text/html": [
       "<div>\n",
       "<style scoped>\n",
       "    .dataframe tbody tr th:only-of-type {\n",
       "        vertical-align: middle;\n",
       "    }\n",
       "\n",
       "    .dataframe tbody tr th {\n",
       "        vertical-align: top;\n",
       "    }\n",
       "\n",
       "    .dataframe thead th {\n",
       "        text-align: right;\n",
       "    }\n",
       "</style>\n",
       "<table border=\"1\" class=\"dataframe\">\n",
       "  <thead>\n",
       "    <tr style=\"text-align: right;\">\n",
       "      <th></th>\n",
       "      <th>Model</th>\n",
       "      <th>Best Params</th>\n",
       "      <th>Best F1 Score</th>\n",
       "    </tr>\n",
       "  </thead>\n",
       "  <tbody>\n",
       "    <tr>\n",
       "      <th>3</th>\n",
       "      <td>Decision Tree</td>\n",
       "      <td>{'criterion': 'entropy', 'max_depth': None, 'min_samples_split': 10}</td>\n",
       "      <td>0.342364</td>\n",
       "    </tr>\n",
       "    <tr>\n",
       "      <th>4</th>\n",
       "      <td>Random Forest</td>\n",
       "      <td>{'max_depth': None, 'max_features': 'log2', 'min_samples_split': 5, 'n_estimators': 50}</td>\n",
       "      <td>0.337317</td>\n",
       "    </tr>\n",
       "    <tr>\n",
       "      <th>5</th>\n",
       "      <td>Neural Network</td>\n",
       "      <td>{'activation': 'relu', 'alpha': 0.0001, 'hidden_layer_sizes': (100, 50), 'solver': 'adam'}</td>\n",
       "      <td>0.328622</td>\n",
       "    </tr>\n",
       "    <tr>\n",
       "      <th>1</th>\n",
       "      <td>KNN</td>\n",
       "      <td>{'n_neighbors': 7, 'weights': 'distance'}</td>\n",
       "      <td>0.326137</td>\n",
       "    </tr>\n",
       "    <tr>\n",
       "      <th>2</th>\n",
       "      <td>SVM</td>\n",
       "      <td>{'C': 10, 'gamma': 'auto', 'kernel': 'rbf'}</td>\n",
       "      <td>0.325557</td>\n",
       "    </tr>\n",
       "    <tr>\n",
       "      <th>0</th>\n",
       "      <td>Logistic Regression</td>\n",
       "      <td>{'C': 1, 'penalty': 'l2', 'solver': 'lbfgs'}</td>\n",
       "      <td>0.276221</td>\n",
       "    </tr>\n",
       "  </tbody>\n",
       "</table>\n",
       "</div>"
      ],
      "text/plain": [
       "                 Model  \\\n",
       "3        Decision Tree   \n",
       "4        Random Forest   \n",
       "5       Neural Network   \n",
       "1                  KNN   \n",
       "2                  SVM   \n",
       "0  Logistic Regression   \n",
       "\n",
       "                                                                                  Best Params  \\\n",
       "3                        {'criterion': 'entropy', 'max_depth': None, 'min_samples_split': 10}   \n",
       "4     {'max_depth': None, 'max_features': 'log2', 'min_samples_split': 5, 'n_estimators': 50}   \n",
       "5  {'activation': 'relu', 'alpha': 0.0001, 'hidden_layer_sizes': (100, 50), 'solver': 'adam'}   \n",
       "1                                                   {'n_neighbors': 7, 'weights': 'distance'}   \n",
       "2                                                 {'C': 10, 'gamma': 'auto', 'kernel': 'rbf'}   \n",
       "0                                                {'C': 1, 'penalty': 'l2', 'solver': 'lbfgs'}   \n",
       "\n",
       "   Best F1 Score  \n",
       "3       0.342364  \n",
       "4       0.337317  \n",
       "5       0.328622  \n",
       "1       0.326137  \n",
       "2       0.325557  \n",
       "0       0.276221  "
      ]
     },
     "execution_count": 207,
     "metadata": {},
     "output_type": "execute_result"
    }
   ],
   "source": [
    "# Storage the hyperparameter into a df\n",
    "result_df = pd.DataFrame(params_results).sort_values('Best F1 Score', ascending=False)\n",
    "result_df"
   ]
  },
  {
   "cell_type": "code",
   "execution_count": 208,
   "id": "3b1c733f-ca8b-406b-ba1a-682835e90eb9",
   "metadata": {
    "tags": []
   },
   "outputs": [
    {
     "data": {
      "text/html": [
       "<div>\n",
       "<style scoped>\n",
       "    .dataframe tbody tr th:only-of-type {\n",
       "        vertical-align: middle;\n",
       "    }\n",
       "\n",
       "    .dataframe tbody tr th {\n",
       "        vertical-align: top;\n",
       "    }\n",
       "\n",
       "    .dataframe thead th {\n",
       "        text-align: right;\n",
       "    }\n",
       "</style>\n",
       "<table border=\"1\" class=\"dataframe\">\n",
       "  <thead>\n",
       "    <tr style=\"text-align: right;\">\n",
       "      <th></th>\n",
       "      <th>Model</th>\n",
       "      <th>Best Params</th>\n",
       "    </tr>\n",
       "  </thead>\n",
       "  <tbody>\n",
       "    <tr>\n",
       "      <th>3</th>\n",
       "      <td>Decision Tree</td>\n",
       "      <td>{'criterion': 'entropy', 'max_depth': None, 'min_samples_split': 10}</td>\n",
       "    </tr>\n",
       "    <tr>\n",
       "      <th>4</th>\n",
       "      <td>Random Forest</td>\n",
       "      <td>{'max_depth': None, 'max_features': 'log2', 'min_samples_split': 5, 'n_estimators': 50}</td>\n",
       "    </tr>\n",
       "    <tr>\n",
       "      <th>5</th>\n",
       "      <td>Neural Network</td>\n",
       "      <td>{'activation': 'relu', 'alpha': 0.0001, 'hidden_layer_sizes': (100, 50), 'solver': 'adam'}</td>\n",
       "    </tr>\n",
       "    <tr>\n",
       "      <th>1</th>\n",
       "      <td>KNN</td>\n",
       "      <td>{'n_neighbors': 7, 'weights': 'distance'}</td>\n",
       "    </tr>\n",
       "    <tr>\n",
       "      <th>2</th>\n",
       "      <td>SVM</td>\n",
       "      <td>{'C': 10, 'gamma': 'auto', 'kernel': 'rbf'}</td>\n",
       "    </tr>\n",
       "    <tr>\n",
       "      <th>0</th>\n",
       "      <td>Logistic Regression</td>\n",
       "      <td>{'C': 1, 'penalty': 'l2', 'solver': 'lbfgs'}</td>\n",
       "    </tr>\n",
       "  </tbody>\n",
       "</table>\n",
       "</div>"
      ],
      "text/plain": [
       "                 Model  \\\n",
       "3        Decision Tree   \n",
       "4        Random Forest   \n",
       "5       Neural Network   \n",
       "1                  KNN   \n",
       "2                  SVM   \n",
       "0  Logistic Regression   \n",
       "\n",
       "                                                                                  Best Params  \n",
       "3                        {'criterion': 'entropy', 'max_depth': None, 'min_samples_split': 10}  \n",
       "4     {'max_depth': None, 'max_features': 'log2', 'min_samples_split': 5, 'n_estimators': 50}  \n",
       "5  {'activation': 'relu', 'alpha': 0.0001, 'hidden_layer_sizes': (100, 50), 'solver': 'adam'}  \n",
       "1                                                   {'n_neighbors': 7, 'weights': 'distance'}  \n",
       "2                                                 {'C': 10, 'gamma': 'auto', 'kernel': 'rbf'}  \n",
       "0                                                {'C': 1, 'penalty': 'l2', 'solver': 'lbfgs'}  "
      ]
     },
     "execution_count": 208,
     "metadata": {},
     "output_type": "execute_result"
    }
   ],
   "source": [
    "pd.set_option('max_colwidth',100)\n",
    "result_df.iloc[:,:2]"
   ]
  },
  {
   "cell_type": "markdown",
   "id": "60e116e7-02c5-4fb9-abc2-3dceb9f3dae0",
   "metadata": {},
   "source": [
    "### 4.4 Model ensemble"
   ]
  },
  {
   "cell_type": "code",
   "execution_count": 209,
   "id": "a16e9690-0dc6-45f2-9b6a-3ffbc4ae727a",
   "metadata": {
    "tags": []
   },
   "outputs": [],
   "source": [
    "# Set the best hyperparameter\n",
    "best_KNN = KNeighborsClassifier(n_neighbors=7, weights='uniform')\n",
    "best_DT = DecisionTreeClassifier(criterion='entropy', max_depth=None, min_samples_split=2)\n",
    "best_NN = MLPClassifier(activation='tanh', alpha=0.001, hidden_layer_sizes={100,50}, solver='adam')\n",
    "best_RF = RandomForestClassifier(max_depth=None, max_features='log2', min_samples_split=2, n_estimators=100)\n",
    "best_svm = SVC(C=10, gamma='auto', kernel='rbf')\n",
    "best_LR = LogisticRegression(C=1, penalty='l2', solver='lbfgs')"
   ]
  },
  {
   "cell_type": "code",
   "execution_count": 210,
   "id": "bd78621d-41ed-4e00-b529-080aeb0a3078",
   "metadata": {
    "tags": []
   },
   "outputs": [],
   "source": [
    "# Use the voting method to get the best results \n",
    "from sklearn.ensemble import VotingClassifier\n",
    "\n",
    "ensemble = VotingClassifier(\n",
    "    estimators=[\n",
    "        ('KNN', best_KNN),\n",
    "        ('DT', best_DT),\n",
    "        ('NN', best_NN),\n",
    "        ('RF', best_RF),\n",
    "        ('SVM', best_svm),\n",
    "        ('LR', best_LR)\n",
    "    ],\n",
    "    voting='hard' \n",
    ")"
   ]
  },
  {
   "cell_type": "code",
   "execution_count": 211,
   "id": "2f64c5fb-1d22-4eab-a629-5e2c8c30ab86",
   "metadata": {
    "tags": []
   },
   "outputs": [],
   "source": [
    "# Compare the ensemble model with other model\n",
    "models = {\n",
    "    \"Logistic Regression\": best_LR,\n",
    "    \"K-Nearest Neighbors\": best_KNN,\n",
    "    \"Support Vector Machine\": best_svm,\n",
    "    \"Neural Network\": best_NN,\n",
    "    \"Decision Tree\": best_DT,\n",
    "    \"Random Forest\": best_RF,\n",
    "    \"Ensemble\": ensemble\n",
    "}"
   ]
  },
  {
   "cell_type": "code",
   "execution_count": 212,
   "id": "b6833315-e2e0-4424-8b9e-21a1c09c692c",
   "metadata": {
    "tags": []
   },
   "outputs": [],
   "source": [
    "#retrain model with best params\n",
    "best_results = {}\n",
    "for name, model in models.items():\n",
    "    model.fit(X_train, y_train)\n",
    "    y_pred = model.predict(X_test)\n",
    "    best_results[name] = classification_report(y_test, y_pred, target_names=le.classes_, output_dict=True)"
   ]
  },
  {
   "cell_type": "code",
   "execution_count": 213,
   "id": "09002097-e191-4e17-a006-0c8b6e602df1",
   "metadata": {
    "tags": []
   },
   "outputs": [],
   "source": [
    "# Save the f1-score and accuracy metrics into a dataframe\n",
    "best_f1_df = pd.DataFrame({name: pd.DataFrame(rep).T[\"f1-score\"]\n",
    "                      for name, rep in best_results.items()})\n",
    "best_accuracy_df = pd.DataFrame({name: rep[\"accuracy\"]\n",
    "                            for name, rep in best_results.items()}, index=[\"Accuracy\"]).T\n"
   ]
  },
  {
   "cell_type": "markdown",
   "id": "146cab92-70ef-439a-ba93-304b77cbbc20",
   "metadata": {},
   "source": [
    "尽管使用了多种模型尝试对 Test Results 进行分类，但模型性能普遍较低（F1-score ≈ 30%）。这是由于：\n",
    "\n",
    "- 化验结果存在主观性与不确定性，尤其是 Inconclusive 类别；\n",
    "\n",
    "- 结构化特征与检测结果之间缺乏直接因果联系；\n",
    "\n",
    "- 一些重要医学信息未在当前数据中体现。"
   ]
  },
  {
   "cell_type": "markdown",
   "id": "ce4b5512-bf5c-48c6-a630-289fbbbaa35a",
   "metadata": {},
   "source": [
    "### Model Performance After Hyperparameter Tuning + Ensemble Model\n",
    "\n",
    "The table above presents the classification performance of individual models using their **best hyperparameters (via GridSearchCV)** and compares them to an **Ensemble model** built from selected base learners.\n",
    "\n",
    "Observations:\n",
    "\n",
    "- **Improvements after tuning** are evident for most models, especially:\n",
    "  - **Logistic Regression**, which maintained strong performance for the 'Abnormal' class (0.471) but still struggles on 'Normal' (0.012).\n",
    "  - **K-Nearest Neighbors** and **SVM** now show more **balanced class-wise performance**, with better macro and weighted F1-scores.\n",
    "  - **Random Forest** remains consistent, showing good class-wise stability and strong average metrics.\n",
    "\n",
    "- The **Neural Network** shows significant improvement for the 'Inconclusive' class (0.42), though performance on 'Normal' is still weak.\n",
    "\n",
    "- The **Ensemble Model** achieves:\n",
    "  - **Strong performance on 'Abnormal' (0.4176)**, competitive with the top base learners\n",
    "  - **Good balance overall**, though not outperforming the best individual models on all metrics\n",
    "  - **Macro Avg: 0.317**, **Weighted Avg: 0.320**, close to top performers"
   ]
  },
  {
   "cell_type": "code",
   "execution_count": 214,
   "id": "fa9e5148-4c3f-4cf2-8e86-95f93bc61076",
   "metadata": {
    "tags": []
   },
   "outputs": [
    {
     "data": {
      "text/html": [
       "<div>\n",
       "<style scoped>\n",
       "    .dataframe tbody tr th:only-of-type {\n",
       "        vertical-align: middle;\n",
       "    }\n",
       "\n",
       "    .dataframe tbody tr th {\n",
       "        vertical-align: top;\n",
       "    }\n",
       "\n",
       "    .dataframe thead th {\n",
       "        text-align: right;\n",
       "    }\n",
       "</style>\n",
       "<table border=\"1\" class=\"dataframe\">\n",
       "  <thead>\n",
       "    <tr style=\"text-align: right;\">\n",
       "      <th></th>\n",
       "      <th>Logistic Regression</th>\n",
       "      <th>K-Nearest Neighbors</th>\n",
       "      <th>Support Vector Machine</th>\n",
       "      <th>Neural Network</th>\n",
       "      <th>Decision Tree</th>\n",
       "      <th>Random Forest</th>\n",
       "      <th>Ensemble</th>\n",
       "    </tr>\n",
       "  </thead>\n",
       "  <tbody>\n",
       "    <tr>\n",
       "      <th>Abnormal</th>\n",
       "      <td>0.471396</td>\n",
       "      <td>0.392132</td>\n",
       "      <td>0.373016</td>\n",
       "      <td>0.262681</td>\n",
       "      <td>0.340959</td>\n",
       "      <td>0.377282</td>\n",
       "      <td>0.417620</td>\n",
       "    </tr>\n",
       "    <tr>\n",
       "      <th>Inconclusive</th>\n",
       "      <td>0.250217</td>\n",
       "      <td>0.314128</td>\n",
       "      <td>0.313349</td>\n",
       "      <td>0.422507</td>\n",
       "      <td>0.354814</td>\n",
       "      <td>0.298343</td>\n",
       "      <td>0.254346</td>\n",
       "    </tr>\n",
       "    <tr>\n",
       "      <th>Normal</th>\n",
       "      <td>0.012048</td>\n",
       "      <td>0.288678</td>\n",
       "      <td>0.308812</td>\n",
       "      <td>0.167816</td>\n",
       "      <td>0.312217</td>\n",
       "      <td>0.315789</td>\n",
       "      <td>0.279551</td>\n",
       "    </tr>\n",
       "    <tr>\n",
       "      <th>accuracy</th>\n",
       "      <td>0.331500</td>\n",
       "      <td>0.337500</td>\n",
       "      <td>0.334500</td>\n",
       "      <td>0.323000</td>\n",
       "      <td>0.336000</td>\n",
       "      <td>0.333000</td>\n",
       "      <td>0.333000</td>\n",
       "    </tr>\n",
       "    <tr>\n",
       "      <th>macro avg</th>\n",
       "      <td>0.244554</td>\n",
       "      <td>0.331646</td>\n",
       "      <td>0.331726</td>\n",
       "      <td>0.284335</td>\n",
       "      <td>0.335997</td>\n",
       "      <td>0.330471</td>\n",
       "      <td>0.317172</td>\n",
       "    </tr>\n",
       "    <tr>\n",
       "      <th>weighted avg</th>\n",
       "      <td>0.249936</td>\n",
       "      <td>0.333290</td>\n",
       "      <td>0.332919</td>\n",
       "      <td>0.282295</td>\n",
       "      <td>0.335909</td>\n",
       "      <td>0.331948</td>\n",
       "      <td>0.320274</td>\n",
       "    </tr>\n",
       "  </tbody>\n",
       "</table>\n",
       "</div>"
      ],
      "text/plain": [
       "              Logistic Regression  K-Nearest Neighbors  \\\n",
       "Abnormal                 0.471396             0.392132   \n",
       "Inconclusive             0.250217             0.314128   \n",
       "Normal                   0.012048             0.288678   \n",
       "accuracy                 0.331500             0.337500   \n",
       "macro avg                0.244554             0.331646   \n",
       "weighted avg             0.249936             0.333290   \n",
       "\n",
       "              Support Vector Machine  Neural Network  Decision Tree  \\\n",
       "Abnormal                    0.373016        0.262681       0.340959   \n",
       "Inconclusive                0.313349        0.422507       0.354814   \n",
       "Normal                      0.308812        0.167816       0.312217   \n",
       "accuracy                    0.334500        0.323000       0.336000   \n",
       "macro avg                   0.331726        0.284335       0.335997   \n",
       "weighted avg                0.332919        0.282295       0.335909   \n",
       "\n",
       "              Random Forest  Ensemble  \n",
       "Abnormal           0.377282  0.417620  \n",
       "Inconclusive       0.298343  0.254346  \n",
       "Normal             0.315789  0.279551  \n",
       "accuracy           0.333000  0.333000  \n",
       "macro avg          0.330471  0.317172  \n",
       "weighted avg       0.331948  0.320274  "
      ]
     },
     "execution_count": 214,
     "metadata": {},
     "output_type": "execute_result"
    }
   ],
   "source": [
    "best_f1_df"
   ]
  },
  {
   "cell_type": "code",
   "execution_count": 215,
   "id": "04ea5682-55c9-4a1a-8cb3-0827c8c0bacd",
   "metadata": {
    "tags": []
   },
   "outputs": [
    {
     "data": {
      "text/html": [
       "<div>\n",
       "<style scoped>\n",
       "    .dataframe tbody tr th:only-of-type {\n",
       "        vertical-align: middle;\n",
       "    }\n",
       "\n",
       "    .dataframe tbody tr th {\n",
       "        vertical-align: top;\n",
       "    }\n",
       "\n",
       "    .dataframe thead th {\n",
       "        text-align: right;\n",
       "    }\n",
       "</style>\n",
       "<table border=\"1\" class=\"dataframe\">\n",
       "  <thead>\n",
       "    <tr style=\"text-align: right;\">\n",
       "      <th></th>\n",
       "      <th>Accuracy</th>\n",
       "    </tr>\n",
       "  </thead>\n",
       "  <tbody>\n",
       "    <tr>\n",
       "      <th>K-Nearest Neighbors</th>\n",
       "      <td>0.3375</td>\n",
       "    </tr>\n",
       "    <tr>\n",
       "      <th>Decision Tree</th>\n",
       "      <td>0.3360</td>\n",
       "    </tr>\n",
       "    <tr>\n",
       "      <th>Support Vector Machine</th>\n",
       "      <td>0.3345</td>\n",
       "    </tr>\n",
       "    <tr>\n",
       "      <th>Random Forest</th>\n",
       "      <td>0.3330</td>\n",
       "    </tr>\n",
       "    <tr>\n",
       "      <th>Ensemble</th>\n",
       "      <td>0.3330</td>\n",
       "    </tr>\n",
       "    <tr>\n",
       "      <th>Logistic Regression</th>\n",
       "      <td>0.3315</td>\n",
       "    </tr>\n",
       "    <tr>\n",
       "      <th>Neural Network</th>\n",
       "      <td>0.3230</td>\n",
       "    </tr>\n",
       "  </tbody>\n",
       "</table>\n",
       "</div>"
      ],
      "text/plain": [
       "                        Accuracy\n",
       "K-Nearest Neighbors       0.3375\n",
       "Decision Tree             0.3360\n",
       "Support Vector Machine    0.3345\n",
       "Random Forest             0.3330\n",
       "Ensemble                  0.3330\n",
       "Logistic Regression       0.3315\n",
       "Neural Network            0.3230"
      ]
     },
     "execution_count": 215,
     "metadata": {},
     "output_type": "execute_result"
    }
   ],
   "source": [
    "best_accuracy_df.sort_values('Accuracy', ascending=False)"
   ]
  },
  {
   "cell_type": "code",
   "execution_count": 522,
   "id": "3eb748d0-3457-4f9e-a572-64e56fbfd782",
   "metadata": {
    "tags": []
   },
   "outputs": [],
   "source": [
    "# Save the model, encoder and feature to local and then do model deployment\n",
    "import joblib\n",
    "import os\n",
    "\n",
    "feature_names = X_train.columns.tolist()\n",
    "if not os.path.exists('./app/data'):\n",
    "    os.makedirs('./app/data')\n",
    "else:\n",
    "    joblib.dump(ensemble, \"./app/data/ensemble_model.pkl\")\n",
    "    joblib.dump(encoders, \"./app/data/categorical_encoder.pkl\")\n",
    "    joblib.dump(label_encoder, \"./app/data/label_encoder.pkl\")\n",
    "    joblib.dump(feature_names, './app/data/feature_names.pkl')"
   ]
  },
  {
   "cell_type": "markdown",
   "id": "490af33d-b3bc-4696-a665-e8b0922f33c7",
   "metadata": {},
   "source": [
    "## Summary: Multi-Class Classification of Medical Test Results\n",
    "\n",
    "This project aimed to build predictive models for classifying patient **test results** (`Abnormal`, `Normal`, `Inconclusive`) based on demographic, medical, and hospitalization data. The end-to-end process included:\n",
    "\n",
    "### Key Steps:\n",
    "1. **Exploratory Data Analysis (EDA)**:\n",
    "   - Assessed label distribution, missing values, and categorical feature distributions.\n",
    "   - Analyzed feature interactions: gender, age, stay days, medical condition, and blood type vs. test results.\n",
    "\n",
    "2. **Feature Engineering**:\n",
    "   - Created categorical groupings (age bins, stay days group).\n",
    "   - Constructed cross-features (e.g., Gender + Stay Group, Condition + Stay Group).\n",
    "   - Applied both one-hot and label encoding to categorical features.\n",
    "\n",
    "3. **Model Development**:\n",
    "   - Trained baseline models: Logistic Regression, KNN, SVM, Neural Network, Decision Tree, Random Forest.\n",
    "   - Performed hyperparameter tuning via GridSearchCV.\n",
    "   - Built an **ensemble model** combining top learners for improved balance and robustness.\n",
    "\n",
    "4. **Cost & Risk Analysis**:\n",
    "   - Explored billing amounts across diseases and medications.\n",
    "   - Investigated risk patterns by age, gender, and condition in relation to abnormal test outcomes.\n",
    "\n",
    "---\n",
    "\n",
    "## Why Is Accuracy Low?\n",
    "\n",
    "Despite extensive preprocessing and model optimization, **accuracy remained around 33–34%**, only slightly above random guessing in a 3-class setting. This is likely due to several **real-world data challenges**:\n",
    "\n",
    "### 1. **Class Overlap**\n",
    "- The features available (e.g., gender, age, condition) may not clearly separate classes.\n",
    "- Patients with similar demographics and diagnoses can fall into any of the three test result categories, limiting model discriminative power.\n",
    "\n",
    "### 2. **Label Ambiguity / Noise**\n",
    "- The target variable (`Test Results`) includes an `Inconclusive` class, which is inherently **noisy or uncertain**.\n",
    "- Some results may not reflect true clinical differences, making the learning task fuzzier.\n",
    "\n",
    "### 3. **Feature Limitations**\n",
    "- Many features are high-level and categorical (e.g., condition, medication) without detailed clinical context (e.g., lab values, severity scores).\n",
    "- Lack of numeric diagnostic markers reduces the model's ability to learn precise patterns.\n",
    "\n",
    "### 4. **Non-linear Complexity**\n",
    "- Underlying relationships between inputs and outputs may be **non-linear and multi-modal**, which simpler models (Logistic Regression, KNN) cannot fully capture.\n",
    "\n",
    "---\n",
    "\n",
    "## Final Remarks\n",
    "\n",
    "While model performance is modest, the analysis offers valuable insights into:\n",
    "- Patient risk profiles across age, gender, and hospital stay duration\n",
    "- Cost implications by disease and medication\n",
    "- Feature interaction effects via heatmaps and group-level exploration\n",
    "\n",
    "The **ensemble model** delivers the best overall balance and can serve as a baseline for future work involving:\n",
    "- More granular clinical data (e.g., lab results, doctor notes)\n",
    "- Deep learning models (e.g., tabular transformers)\n",
    "- Interpretability tools (e.g., SHAP, LIME)\n",
    "\n",
    "This project demonstrates a **comprehensive pipeline** for structured medical data modeling, balancing technical depth with practical clinical relevance."
   ]
  }
 ],
 "metadata": {
  "kernelspec": {
   "display_name": "Python 3 (ipykernel)",
   "language": "python",
   "name": "python3"
  },
  "language_info": {
   "codemirror_mode": {
    "name": "ipython",
    "version": 3
   },
   "file_extension": ".py",
   "mimetype": "text/x-python",
   "name": "python",
   "nbconvert_exporter": "python",
   "pygments_lexer": "ipython3",
   "version": "3.7.11"
  }
 },
 "nbformat": 4,
 "nbformat_minor": 5
}
