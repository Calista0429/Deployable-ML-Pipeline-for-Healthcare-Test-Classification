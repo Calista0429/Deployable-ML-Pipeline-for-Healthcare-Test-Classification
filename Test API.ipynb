{
 "cells": [
  {
   "cell_type": "code",
   "execution_count": 33,
   "id": "1a96f83e-1a75-4be4-a199-908bdc3177d8",
   "metadata": {
    "tags": []
   },
   "outputs": [],
   "source": [
    "import requests\n",
    "import json\n",
    "url = \"http://127.0.0.1:8000/predict\"\n",
    "data = {\n",
    "    \"Blood Type\": \"O+\",\n",
    "    \"Medical Condition\": \"Diabetes\",\n",
    "    \"Billing Amount\": 30000,\n",
    "    \"Age\": 60,\n",
    "    \"Stay Days\": 14\n",
    "}"
   ]
  },
  {
   "cell_type": "code",
   "execution_count": 34,
   "id": "1d914d53-d3e8-4c0c-a33b-f262fcfd6b27",
   "metadata": {
    "tags": []
   },
   "outputs": [
    {
     "name": "stdout",
     "output_type": "stream",
     "text": [
      "{'prediction': 'Normal'}\n"
     ]
    }
   ],
   "source": [
    "response = requests.post(url, json=data)\n",
    "print(response.json())"
   ]
  }
 ],
 "metadata": {
  "kernelspec": {
   "display_name": "Python 3 (ipykernel)",
   "language": "python",
   "name": "python3"
  },
  "language_info": {
   "codemirror_mode": {
    "name": "ipython",
    "version": 3
   },
   "file_extension": ".py",
   "mimetype": "text/x-python",
   "name": "python",
   "nbconvert_exporter": "python",
   "pygments_lexer": "ipython3",
   "version": "3.7.11"
  }
 },
 "nbformat": 4,
 "nbformat_minor": 5
}
