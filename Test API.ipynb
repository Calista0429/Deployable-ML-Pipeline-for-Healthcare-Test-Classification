{
 "cells": [
  {
   "cell_type": "code",
   "execution_count": 10,
   "id": "860ca098-7dd5-4abb-94d2-48f3ed6e66ad",
   "metadata": {
    "tags": []
   },
   "outputs": [],
   "source": [
    "import requests\n",
    "import json"
   ]
  },
  {
   "cell_type": "markdown",
   "id": "a2780d4e-285c-49f4-87bb-f4a17823b041",
   "metadata": {},
   "source": [
    "### 1 FastAPI"
   ]
  },
  {
   "cell_type": "code",
   "execution_count": 3,
   "id": "1a96f83e-1a75-4be4-a199-908bdc3177d8",
   "metadata": {
    "tags": []
   },
   "outputs": [],
   "source": [
    "url = \"http://127.0.0.1:8000/predict\"\n",
    "data = {\n",
    "    \"Blood Type\": \"O+\",\n",
    "    \"Medical Condition\": \"Diabetes\",\n",
    "    \"Billing Amount\": 30000,\n",
    "    \"Age\": 60,\n",
    "    \"Stay Days\": 14\n",
    "}"
   ]
  },
  {
   "cell_type": "code",
   "execution_count": 34,
   "id": "1d914d53-d3e8-4c0c-a33b-f262fcfd6b27",
   "metadata": {
    "tags": []
   },
   "outputs": [
    {
     "name": "stdout",
     "output_type": "stream",
     "text": [
      "{'prediction': 'Normal'}\n"
     ]
    }
   ],
   "source": [
    "response = requests.post(url, json=data)\n",
    "print(response.json())"
   ]
  },
  {
   "cell_type": "markdown",
   "id": "3f1ed9dd-4a1e-4540-b62e-a64ea36fff89",
   "metadata": {},
   "source": [
    "### 2 Docker API"
   ]
  },
  {
   "cell_type": "code",
   "execution_count": 8,
   "id": "7ba3aab1-3c3b-400e-9bcd-88e6666af80e",
   "metadata": {
    "tags": []
   },
   "outputs": [],
   "source": [
    "url = \"http://0.0.0.0:8000/predict\"\n",
    "data = {\n",
    "    \"Blood Type\": \"O+\",\n",
    "    \"Medical Condition\": \"Diabetes\",\n",
    "    \"Billing Amount\": 30000,\n",
    "    \"Age\": 60,\n",
    "    \"Stay Days\": 14\n",
    "}"
   ]
  },
  {
   "cell_type": "code",
   "execution_count": 9,
   "id": "ad5e38b2-2cd1-4ba5-8b86-ebcadb6d1b4c",
   "metadata": {
    "tags": []
   },
   "outputs": [
    {
     "name": "stdout",
     "output_type": "stream",
     "text": [
      "{'prediction': 'Normal'}\n"
     ]
    }
   ],
   "source": [
    "response = requests.post(url, json=data)\n",
    "print(response.json())"
   ]
  },
  {
   "cell_type": "code",
   "execution_count": null,
   "id": "b023dc1b-e42d-4e57-9506-85d1e6814e59",
   "metadata": {},
   "outputs": [],
   "source": []
  }
 ],
 "metadata": {
  "kernelspec": {
   "display_name": "Python 3 (ipykernel)",
   "language": "python",
   "name": "python3"
  },
  "language_info": {
   "codemirror_mode": {
    "name": "ipython",
    "version": 3
   },
   "file_extension": ".py",
   "mimetype": "text/x-python",
   "name": "python",
   "nbconvert_exporter": "python",
   "pygments_lexer": "ipython3",
   "version": "3.7.11"
  }
 },
 "nbformat": 4,
 "nbformat_minor": 5
}
